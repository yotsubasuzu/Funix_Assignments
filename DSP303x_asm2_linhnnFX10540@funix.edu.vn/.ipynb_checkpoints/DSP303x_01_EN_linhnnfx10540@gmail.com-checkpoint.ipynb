{
 "cells": [
  {
   "cell_type": "markdown",
   "metadata": {
    "button": false,
    "id": "SzPE54CYM1kJ",
    "new_sheet": false,
    "run_control": {
     "read_only": false
    }
   },
   "source": [
    "<h1 align=center><font size = 10> Classification with Python</font></h1>"
   ]
  },
  {
   "cell_type": "markdown",
   "metadata": {
    "button": false,
    "id": "XPfbiVLfM1kK",
    "new_sheet": false,
    "run_control": {
     "read_only": false
    }
   },
   "source": [
    "In this notebook, we try to practice all the classification algorithms that we have learned in this course.\n",
    "\n",
    "We load a dataset using the Pandas library, and apply the following algorithms, and find the best one for this specific dataset by accuracy evaluation methods.\n",
    "\n",
    "Lets first load required libraries:"
   ]
  },
  {
   "cell_type": "code",
   "execution_count": 2,
   "metadata": {},
   "outputs": [],
   "source": [
    "import sys"
   ]
  },
  {
   "cell_type": "code",
   "execution_count": 3,
   "metadata": {},
   "outputs": [
    {
     "data": {
      "text/plain": [
       "['C:\\\\Users\\\\Suzu\\\\Documents\\\\GitHub\\\\Funix_Assignments\\\\DSP303x_asm2_linhnnFX10540@funix.edu.vn',\n",
       " 'C:\\\\Users\\\\Suzu\\\\anaconda3\\\\python38.zip',\n",
       " 'C:\\\\Users\\\\Suzu\\\\anaconda3\\\\DLLs',\n",
       " 'C:\\\\Users\\\\Suzu\\\\anaconda3\\\\lib',\n",
       " 'C:\\\\Users\\\\Suzu\\\\anaconda3',\n",
       " '',\n",
       " 'C:\\\\Users\\\\Suzu\\\\anaconda3\\\\lib\\\\site-packages',\n",
       " 'C:\\\\Users\\\\Suzu\\\\anaconda3\\\\lib\\\\site-packages\\\\win32',\n",
       " 'C:\\\\Users\\\\Suzu\\\\anaconda3\\\\lib\\\\site-packages\\\\win32\\\\lib',\n",
       " 'C:\\\\Users\\\\Suzu\\\\anaconda3\\\\lib\\\\site-packages\\\\Pythonwin',\n",
       " 'C:\\\\Users\\\\Suzu\\\\anaconda3\\\\lib\\\\site-packages\\\\IPython\\\\extensions',\n",
       " 'C:\\\\Users\\\\Suzu\\\\.ipython']"
      ]
     },
     "execution_count": 3,
     "metadata": {},
     "output_type": "execute_result"
    }
   ],
   "source": [
    "sys.path"
   ]
  },
  {
   "cell_type": "code",
   "execution_count": null,
   "metadata": {},
   "outputs": [],
   "source": []
  },
  {
   "cell_type": "code",
   "execution_count": 1,
   "metadata": {
    "button": false,
    "id": "vcBmcLcqM1kL",
    "new_sheet": false,
    "run_control": {
     "read_only": false
    }
   },
   "outputs": [
    {
     "ename": "ModuleNotFoundError",
     "evalue": "No module named 'matplotlib'",
     "output_type": "error",
     "traceback": [
      "\u001b[1;31m---------------------------------------------------------------------------\u001b[0m",
      "\u001b[1;31mModuleNotFoundError\u001b[0m                       Traceback (most recent call last)",
      "\u001b[1;32m~\\AppData\\Local\\Temp/ipykernel_13408/1092416914.py\u001b[0m in \u001b[0;36m<module>\u001b[1;34m\u001b[0m\n\u001b[1;32m----> 1\u001b[1;33m \u001b[1;32mimport\u001b[0m \u001b[0mmatplotlib\u001b[0m\u001b[1;33m.\u001b[0m\u001b[0mpyplot\u001b[0m \u001b[1;32mas\u001b[0m \u001b[0mplt\u001b[0m\u001b[1;33m\u001b[0m\u001b[1;33m\u001b[0m\u001b[0m\n\u001b[0m\u001b[0;32m      2\u001b[0m \u001b[1;32mfrom\u001b[0m \u001b[0mmatplotlib\u001b[0m\u001b[1;33m.\u001b[0m\u001b[0mticker\u001b[0m \u001b[1;32mimport\u001b[0m \u001b[0mNullFormatter\u001b[0m\u001b[1;33m\u001b[0m\u001b[1;33m\u001b[0m\u001b[0m\n\u001b[0;32m      3\u001b[0m \u001b[1;32mimport\u001b[0m \u001b[0mpandas\u001b[0m \u001b[1;32mas\u001b[0m \u001b[0mpd\u001b[0m\u001b[1;33m\u001b[0m\u001b[1;33m\u001b[0m\u001b[0m\n\u001b[0;32m      4\u001b[0m \u001b[1;32mimport\u001b[0m \u001b[0mnumpy\u001b[0m \u001b[1;32mas\u001b[0m \u001b[0mnp\u001b[0m\u001b[1;33m\u001b[0m\u001b[1;33m\u001b[0m\u001b[0m\n\u001b[0;32m      5\u001b[0m \u001b[1;32mimport\u001b[0m \u001b[0mmatplotlib\u001b[0m\u001b[1;33m.\u001b[0m\u001b[0mticker\u001b[0m \u001b[1;32mas\u001b[0m \u001b[0mticker\u001b[0m\u001b[1;33m\u001b[0m\u001b[1;33m\u001b[0m\u001b[0m\n",
      "\u001b[1;31mModuleNotFoundError\u001b[0m: No module named 'matplotlib'"
     ]
    }
   ],
   "source": [
    "import matplotlib.pyplot as plt\n",
    "from matplotlib.ticker import NullFormatter\n",
    "import pandas as pd\n",
    "import numpy as np\n",
    "import matplotlib.ticker as ticker\n",
    "import seaborn as sns\n",
    "from sklearn import preprocessing\n",
    "%matplotlib inline"
   ]
  },
  {
   "cell_type": "markdown",
   "metadata": {
    "id": "PKehb7okM1kN"
   },
   "source": [
    "# Mandatory part (85%  of the total score)"
   ]
  },
  {
   "cell_type": "markdown",
   "metadata": {
    "id": "1OXuDMKku37m"
   },
   "source": []
  },
  {
   "cell_type": "markdown",
   "metadata": {
    "button": false,
    "id": "ZAL75IefM1kO",
    "new_sheet": false,
    "run_control": {
     "read_only": false
    }
   },
   "source": [
    "## About dataset"
   ]
  },
  {
   "cell_type": "markdown",
   "metadata": {
    "button": false,
    "id": "yrPdRO--M1kO",
    "new_sheet": false,
    "run_control": {
     "read_only": false
    }
   },
   "source": [
    "The Pima is a group of Native Americans living in Arizona. A genetic predisposition allowed this group to survive normally to a diet poor of carbohydrates for years. In recent years, a sudden shift from traditional agricultural crops to processed foods, together with a decline in physical activity, has made them develop the highest prevalence of type 2 diabetes and for this reason, they have been subject of many studies.\n",
    "\n",
    "The dataset includes data from 768 women with 8 characteristics, in particular:\n",
    "\n",
    "- Number of times pregnant\n",
    "- Plasma glucose concentration a 2 hours in an oral glucose tolerance test\n",
    "- Diastolic blood pressure (mm Hg)\n",
    "- Triceps skinfold thickness (mm)\n",
    "- 2-Hour serum insulin (mu U/ml)\n",
    "- Body mass index (weight in kg/(height in m)^2)\n",
    "- Diabetes pedigree function\n",
    "- Age (years)\n",
    "- The last column of the dataset indicates if the person has been diagnosed with diabetes (1) or not (0)"
   ]
  },
  {
   "cell_type": "markdown",
   "metadata": {
    "id": "dzJFrqwyM1kP"
   },
   "source": [
    "## The problem:"
   ]
  },
  {
   "cell_type": "markdown",
   "metadata": {
    "id": "WFl47FBcM1kQ"
   },
   "source": [
    "The type of dataset and problem is a classic supervised binary classification. Given a number of elements with certain characteristics (features), we want to build a machine learning model to identify people affected by type 2 diabetes.\n",
    "\n",
    "To solve the problem we will have to analyze the data, do any required transformation and nomarlization, apply a machine learning algorithm, train a model, check the performance of the trained model and iterate with other algorithms until we find the most performant for our type of dataset."
   ]
  },
  {
   "cell_type": "markdown",
   "metadata": {
    "button": false,
    "id": "Diy5tSZ7M1kQ",
    "new_sheet": false,
    "run_control": {
     "read_only": false
    }
   },
   "source": [
    "## Load Data From CSV File  "
   ]
  },
  {
   "cell_type": "markdown",
   "metadata": {
    "id": "qdIctwmZM1kR"
   },
   "source": [
    "### 1. Load the dataset from the 'pima-indians-diabetes.csv' file.\n",
    "\n",
    "Because the CSV doesn't contain any header, we add column names using the description from the original dataset website:\n",
    "\n",
    "dataset.columns = [\"NumTimesPrg\", \"PlGlcConc\", \"BloodP\", \"SkinThick\", \"TwoHourSerIns\", \"BMI\", \"DiPedFunc\", \"Age\", \"HasDiabetes\"]"
   ]
  },
  {
   "cell_type": "code",
   "execution_count": 2,
   "metadata": {
    "button": false,
    "id": "K-TmhZ8vM1kS",
    "new_sheet": false,
    "run_control": {
     "read_only": false
    }
   },
   "outputs": [
    {
     "data": {
      "text/html": [
       "<div>\n",
       "<style scoped>\n",
       "    .dataframe tbody tr th:only-of-type {\n",
       "        vertical-align: middle;\n",
       "    }\n",
       "\n",
       "    .dataframe tbody tr th {\n",
       "        vertical-align: top;\n",
       "    }\n",
       "\n",
       "    .dataframe thead th {\n",
       "        text-align: right;\n",
       "    }\n",
       "</style>\n",
       "<table border=\"1\" class=\"dataframe\">\n",
       "  <thead>\n",
       "    <tr style=\"text-align: right;\">\n",
       "      <th></th>\n",
       "      <th>NumTimesPrg</th>\n",
       "      <th>PlGlcConc</th>\n",
       "      <th>BloodP</th>\n",
       "      <th>SkinThick</th>\n",
       "      <th>TwoHourSerIns</th>\n",
       "      <th>BMI</th>\n",
       "      <th>DiPedFunc</th>\n",
       "      <th>Age</th>\n",
       "      <th>HasDiabetes</th>\n",
       "    </tr>\n",
       "  </thead>\n",
       "  <tbody>\n",
       "    <tr>\n",
       "      <th>0</th>\n",
       "      <td>6</td>\n",
       "      <td>148</td>\n",
       "      <td>72</td>\n",
       "      <td>35</td>\n",
       "      <td>0</td>\n",
       "      <td>33.6</td>\n",
       "      <td>0.627</td>\n",
       "      <td>50</td>\n",
       "      <td>1</td>\n",
       "    </tr>\n",
       "    <tr>\n",
       "      <th>1</th>\n",
       "      <td>1</td>\n",
       "      <td>85</td>\n",
       "      <td>66</td>\n",
       "      <td>29</td>\n",
       "      <td>0</td>\n",
       "      <td>26.6</td>\n",
       "      <td>0.351</td>\n",
       "      <td>31</td>\n",
       "      <td>0</td>\n",
       "    </tr>\n",
       "    <tr>\n",
       "      <th>2</th>\n",
       "      <td>8</td>\n",
       "      <td>183</td>\n",
       "      <td>64</td>\n",
       "      <td>0</td>\n",
       "      <td>0</td>\n",
       "      <td>23.3</td>\n",
       "      <td>0.672</td>\n",
       "      <td>32</td>\n",
       "      <td>1</td>\n",
       "    </tr>\n",
       "    <tr>\n",
       "      <th>3</th>\n",
       "      <td>1</td>\n",
       "      <td>89</td>\n",
       "      <td>66</td>\n",
       "      <td>23</td>\n",
       "      <td>94</td>\n",
       "      <td>28.1</td>\n",
       "      <td>0.167</td>\n",
       "      <td>21</td>\n",
       "      <td>0</td>\n",
       "    </tr>\n",
       "    <tr>\n",
       "      <th>4</th>\n",
       "      <td>0</td>\n",
       "      <td>137</td>\n",
       "      <td>40</td>\n",
       "      <td>35</td>\n",
       "      <td>168</td>\n",
       "      <td>43.1</td>\n",
       "      <td>2.288</td>\n",
       "      <td>33</td>\n",
       "      <td>1</td>\n",
       "    </tr>\n",
       "  </tbody>\n",
       "</table>\n",
       "</div>"
      ],
      "text/plain": [
       "   NumTimesPrg  PlGlcConc  BloodP  SkinThick  TwoHourSerIns   BMI  DiPedFunc  \\\n",
       "0            6        148      72         35              0  33.6      0.627   \n",
       "1            1         85      66         29              0  26.6      0.351   \n",
       "2            8        183      64          0              0  23.3      0.672   \n",
       "3            1         89      66         23             94  28.1      0.167   \n",
       "4            0        137      40         35            168  43.1      2.288   \n",
       "\n",
       "   Age  HasDiabetes  \n",
       "0   50            1  \n",
       "1   31            0  \n",
       "2   32            1  \n",
       "3   21            0  \n",
       "4   33            1  "
      ]
     },
     "execution_count": 2,
     "metadata": {},
     "output_type": "execute_result"
    }
   ],
   "source": [
    "#TO DO:\n",
    "df = pd.read_csv('pima-indians-diabetes.csv',header=None,names=[\"NumTimesPrg\", \"PlGlcConc\", \"BloodP\", \"SkinThick\", \"TwoHourSerIns\", \"BMI\", \"DiPedFunc\", \"Age\", \"HasDiabetes\"])\n",
    "df.head()"
   ]
  },
  {
   "cell_type": "markdown",
   "metadata": {
    "button": false,
    "id": "AmBhwo0DM1kU",
    "new_sheet": false,
    "run_control": {
     "read_only": false
    }
   },
   "source": [
    "## Inspect the Dataset"
   ]
  },
  {
   "cell_type": "markdown",
   "metadata": {
    "id": "_HlgbaIQM1kU"
   },
   "source": [
    "### 2. Print out the shape of the dataset: we have 768 rows and 9 columns. Then, print out the head of the dataset to better understand the data format.\n",
    "\n",
    "The first 8 columns are features while the last one is the supervised label (1 = has diabetes, 0 = no diabetes)"
   ]
  },
  {
   "cell_type": "code",
   "execution_count": null,
   "metadata": {
    "button": false,
    "collapsed": true,
    "id": "bpyxtYzcM1kV",
    "jupyter": {
     "outputs_hidden": true
    },
    "new_sheet": false,
    "outputId": "4d857f7e-842e-4fb7-ec21-354ac3756be7",
    "run_control": {
     "read_only": false
    },
    "tags": []
   },
   "outputs": [
    {
     "name": "stdout",
     "output_type": "stream",
     "text": [
      "(768, 9)\n"
     ]
    },
    {
     "data": {
      "text/html": [
       "<div>\n",
       "<style scoped>\n",
       "    .dataframe tbody tr th:only-of-type {\n",
       "        vertical-align: middle;\n",
       "    }\n",
       "\n",
       "    .dataframe tbody tr th {\n",
       "        vertical-align: top;\n",
       "    }\n",
       "\n",
       "    .dataframe thead th {\n",
       "        text-align: right;\n",
       "    }\n",
       "</style>\n",
       "<table border=\"1\" class=\"dataframe\">\n",
       "  <thead>\n",
       "    <tr style=\"text-align: right;\">\n",
       "      <th></th>\n",
       "      <th>NumTimesPrg</th>\n",
       "      <th>PlGlcConc</th>\n",
       "      <th>BloodP</th>\n",
       "      <th>SkinThick</th>\n",
       "      <th>TwoHourSerIns</th>\n",
       "      <th>BMI</th>\n",
       "      <th>DiPedFunc</th>\n",
       "      <th>Age</th>\n",
       "      <th>HasDiabetes</th>\n",
       "    </tr>\n",
       "  </thead>\n",
       "  <tbody>\n",
       "    <tr>\n",
       "      <th>0</th>\n",
       "      <td>6</td>\n",
       "      <td>148</td>\n",
       "      <td>72</td>\n",
       "      <td>35</td>\n",
       "      <td>0</td>\n",
       "      <td>33.6</td>\n",
       "      <td>0.627</td>\n",
       "      <td>50</td>\n",
       "      <td>1</td>\n",
       "    </tr>\n",
       "    <tr>\n",
       "      <th>1</th>\n",
       "      <td>1</td>\n",
       "      <td>85</td>\n",
       "      <td>66</td>\n",
       "      <td>29</td>\n",
       "      <td>0</td>\n",
       "      <td>26.6</td>\n",
       "      <td>0.351</td>\n",
       "      <td>31</td>\n",
       "      <td>0</td>\n",
       "    </tr>\n",
       "    <tr>\n",
       "      <th>2</th>\n",
       "      <td>8</td>\n",
       "      <td>183</td>\n",
       "      <td>64</td>\n",
       "      <td>0</td>\n",
       "      <td>0</td>\n",
       "      <td>23.3</td>\n",
       "      <td>0.672</td>\n",
       "      <td>32</td>\n",
       "      <td>1</td>\n",
       "    </tr>\n",
       "    <tr>\n",
       "      <th>3</th>\n",
       "      <td>1</td>\n",
       "      <td>89</td>\n",
       "      <td>66</td>\n",
       "      <td>23</td>\n",
       "      <td>94</td>\n",
       "      <td>28.1</td>\n",
       "      <td>0.167</td>\n",
       "      <td>21</td>\n",
       "      <td>0</td>\n",
       "    </tr>\n",
       "    <tr>\n",
       "      <th>4</th>\n",
       "      <td>0</td>\n",
       "      <td>137</td>\n",
       "      <td>40</td>\n",
       "      <td>35</td>\n",
       "      <td>168</td>\n",
       "      <td>43.1</td>\n",
       "      <td>2.288</td>\n",
       "      <td>33</td>\n",
       "      <td>1</td>\n",
       "    </tr>\n",
       "  </tbody>\n",
       "</table>\n",
       "</div>"
      ],
      "text/plain": [
       "   NumTimesPrg  PlGlcConc  BloodP  SkinThick  TwoHourSerIns   BMI  DiPedFunc  \\\n",
       "0            6        148      72         35              0  33.6      0.627   \n",
       "1            1         85      66         29              0  26.6      0.351   \n",
       "2            8        183      64          0              0  23.3      0.672   \n",
       "3            1         89      66         23             94  28.1      0.167   \n",
       "4            0        137      40         35            168  43.1      2.288   \n",
       "\n",
       "   Age  HasDiabetes  \n",
       "0   50            1  \n",
       "1   31            0  \n",
       "2   32            1  \n",
       "3   21            0  \n",
       "4   33            1  "
      ]
     },
     "execution_count": 3,
     "metadata": {
      "tags": []
     },
     "output_type": "execute_result"
    }
   ],
   "source": [
    "#TO DO:\n",
    "Number of times pregnant\n",
    "Plasma glucose concentration a 2 hours in an oral glucose tolerance test\n",
    "Diastolic blood pressure (mm Hg)\n",
    "Triceps skinfold thickness (mm)\n",
    "2-Hour serum insulin (mu U/ml)\n",
    "Body mass index (weight in kg/(height in m)^2)\n",
    "Diabetes pedigree function\n",
    "Age (years)"
   ]
  },
  {
   "cell_type": "code",
   "execution_count": 3,
   "metadata": {},
   "outputs": [
    {
     "name": "stdout",
     "output_type": "stream",
     "text": [
      "(768, 9)\n"
     ]
    },
    {
     "data": {
      "text/html": [
       "<div>\n",
       "<style scoped>\n",
       "    .dataframe tbody tr th:only-of-type {\n",
       "        vertical-align: middle;\n",
       "    }\n",
       "\n",
       "    .dataframe tbody tr th {\n",
       "        vertical-align: top;\n",
       "    }\n",
       "\n",
       "    .dataframe thead th {\n",
       "        text-align: right;\n",
       "    }\n",
       "</style>\n",
       "<table border=\"1\" class=\"dataframe\">\n",
       "  <thead>\n",
       "    <tr style=\"text-align: right;\">\n",
       "      <th></th>\n",
       "      <th>NumTimesPrg</th>\n",
       "      <th>PlGlcConc</th>\n",
       "      <th>BloodP</th>\n",
       "      <th>SkinThick</th>\n",
       "      <th>TwoHourSerIns</th>\n",
       "      <th>BMI</th>\n",
       "      <th>DiPedFunc</th>\n",
       "      <th>Age</th>\n",
       "      <th>HasDiabetes</th>\n",
       "    </tr>\n",
       "  </thead>\n",
       "  <tbody>\n",
       "    <tr>\n",
       "      <th>0</th>\n",
       "      <td>6</td>\n",
       "      <td>148</td>\n",
       "      <td>72</td>\n",
       "      <td>35</td>\n",
       "      <td>0</td>\n",
       "      <td>33.6</td>\n",
       "      <td>0.627</td>\n",
       "      <td>50</td>\n",
       "      <td>1</td>\n",
       "    </tr>\n",
       "    <tr>\n",
       "      <th>1</th>\n",
       "      <td>1</td>\n",
       "      <td>85</td>\n",
       "      <td>66</td>\n",
       "      <td>29</td>\n",
       "      <td>0</td>\n",
       "      <td>26.6</td>\n",
       "      <td>0.351</td>\n",
       "      <td>31</td>\n",
       "      <td>0</td>\n",
       "    </tr>\n",
       "    <tr>\n",
       "      <th>2</th>\n",
       "      <td>8</td>\n",
       "      <td>183</td>\n",
       "      <td>64</td>\n",
       "      <td>0</td>\n",
       "      <td>0</td>\n",
       "      <td>23.3</td>\n",
       "      <td>0.672</td>\n",
       "      <td>32</td>\n",
       "      <td>1</td>\n",
       "    </tr>\n",
       "    <tr>\n",
       "      <th>3</th>\n",
       "      <td>1</td>\n",
       "      <td>89</td>\n",
       "      <td>66</td>\n",
       "      <td>23</td>\n",
       "      <td>94</td>\n",
       "      <td>28.1</td>\n",
       "      <td>0.167</td>\n",
       "      <td>21</td>\n",
       "      <td>0</td>\n",
       "    </tr>\n",
       "    <tr>\n",
       "      <th>4</th>\n",
       "      <td>0</td>\n",
       "      <td>137</td>\n",
       "      <td>40</td>\n",
       "      <td>35</td>\n",
       "      <td>168</td>\n",
       "      <td>43.1</td>\n",
       "      <td>2.288</td>\n",
       "      <td>33</td>\n",
       "      <td>1</td>\n",
       "    </tr>\n",
       "  </tbody>\n",
       "</table>\n",
       "</div>"
      ],
      "text/plain": [
       "   NumTimesPrg  PlGlcConc  BloodP  SkinThick  TwoHourSerIns   BMI  DiPedFunc  \\\n",
       "0            6        148      72         35              0  33.6      0.627   \n",
       "1            1         85      66         29              0  26.6      0.351   \n",
       "2            8        183      64          0              0  23.3      0.672   \n",
       "3            1         89      66         23             94  28.1      0.167   \n",
       "4            0        137      40         35            168  43.1      2.288   \n",
       "\n",
       "   Age  HasDiabetes  \n",
       "0   50            1  \n",
       "1   31            0  \n",
       "2   32            1  \n",
       "3   21            0  \n",
       "4   33            1  "
      ]
     },
     "execution_count": 3,
     "metadata": {},
     "output_type": "execute_result"
    }
   ],
   "source": [
    "print(df.shape)\n",
    "df.head()"
   ]
  },
  {
   "cell_type": "markdown",
   "metadata": {
    "button": false,
    "id": "a02T2r1XM1kY",
    "new_sheet": false,
    "run_control": {
     "read_only": false
    }
   },
   "source": [
    "# Data visualization and pre-processing\n",
    "\n"
   ]
  },
  {
   "cell_type": "markdown",
   "metadata": {
    "button": false,
    "id": "WyisS4NVM1kZ",
    "new_sheet": false,
    "run_control": {
     "read_only": false
    }
   },
   "source": [
    "## Data correlation matrix\n",
    "### 3. Let's calculate the correlation matrix for our dataset.\n",
    "\n",
    "The correlation matrix is an important tool to understand the correlation between the different characteristics. The values range from -1 to 1 and the closer a value is to 1 the better correlation there is between two characteristics. "
   ]
  },
  {
   "cell_type": "code",
   "execution_count": null,
   "metadata": {
    "button": false,
    "collapsed": true,
    "id": "vymkxfN8M1kZ",
    "jupyter": {
     "outputs_hidden": true
    },
    "new_sheet": false,
    "outputId": "7e458e60-772c-4d79-d71d-a5692a1a0dc6",
    "run_control": {
     "read_only": false
    },
    "tags": []
   },
   "outputs": [
    {
     "data": {
      "text/html": [
       "<div>\n",
       "<style scoped>\n",
       "    .dataframe tbody tr th:only-of-type {\n",
       "        vertical-align: middle;\n",
       "    }\n",
       "\n",
       "    .dataframe tbody tr th {\n",
       "        vertical-align: top;\n",
       "    }\n",
       "\n",
       "    .dataframe thead th {\n",
       "        text-align: right;\n",
       "    }\n",
       "</style>\n",
       "<table border=\"1\" class=\"dataframe\">\n",
       "  <thead>\n",
       "    <tr style=\"text-align: right;\">\n",
       "      <th></th>\n",
       "      <th>NumTimesPrg</th>\n",
       "      <th>PlGlcConc</th>\n",
       "      <th>BloodP</th>\n",
       "      <th>SkinThick</th>\n",
       "      <th>TwoHourSerIns</th>\n",
       "      <th>BMI</th>\n",
       "      <th>DiPedFunc</th>\n",
       "      <th>Age</th>\n",
       "      <th>HasDiabetes</th>\n",
       "    </tr>\n",
       "  </thead>\n",
       "  <tbody>\n",
       "    <tr>\n",
       "      <th>NumTimesPrg</th>\n",
       "      <td>1.000000</td>\n",
       "      <td>0.129459</td>\n",
       "      <td>0.141282</td>\n",
       "      <td>-0.081672</td>\n",
       "      <td>-0.073535</td>\n",
       "      <td>0.017683</td>\n",
       "      <td>-0.033523</td>\n",
       "      <td>0.544341</td>\n",
       "      <td>0.221898</td>\n",
       "    </tr>\n",
       "    <tr>\n",
       "      <th>PlGlcConc</th>\n",
       "      <td>0.129459</td>\n",
       "      <td>1.000000</td>\n",
       "      <td>0.152590</td>\n",
       "      <td>0.057328</td>\n",
       "      <td>0.331357</td>\n",
       "      <td>0.221071</td>\n",
       "      <td>0.137337</td>\n",
       "      <td>0.263514</td>\n",
       "      <td>0.466581</td>\n",
       "    </tr>\n",
       "    <tr>\n",
       "      <th>BloodP</th>\n",
       "      <td>0.141282</td>\n",
       "      <td>0.152590</td>\n",
       "      <td>1.000000</td>\n",
       "      <td>0.207371</td>\n",
       "      <td>0.088933</td>\n",
       "      <td>0.281805</td>\n",
       "      <td>0.041265</td>\n",
       "      <td>0.239528</td>\n",
       "      <td>0.065068</td>\n",
       "    </tr>\n",
       "    <tr>\n",
       "      <th>SkinThick</th>\n",
       "      <td>-0.081672</td>\n",
       "      <td>0.057328</td>\n",
       "      <td>0.207371</td>\n",
       "      <td>1.000000</td>\n",
       "      <td>0.436783</td>\n",
       "      <td>0.392573</td>\n",
       "      <td>0.183928</td>\n",
       "      <td>-0.113970</td>\n",
       "      <td>0.074752</td>\n",
       "    </tr>\n",
       "    <tr>\n",
       "      <th>TwoHourSerIns</th>\n",
       "      <td>-0.073535</td>\n",
       "      <td>0.331357</td>\n",
       "      <td>0.088933</td>\n",
       "      <td>0.436783</td>\n",
       "      <td>1.000000</td>\n",
       "      <td>0.197859</td>\n",
       "      <td>0.185071</td>\n",
       "      <td>-0.042163</td>\n",
       "      <td>0.130548</td>\n",
       "    </tr>\n",
       "    <tr>\n",
       "      <th>BMI</th>\n",
       "      <td>0.017683</td>\n",
       "      <td>0.221071</td>\n",
       "      <td>0.281805</td>\n",
       "      <td>0.392573</td>\n",
       "      <td>0.197859</td>\n",
       "      <td>1.000000</td>\n",
       "      <td>0.140647</td>\n",
       "      <td>0.036242</td>\n",
       "      <td>0.292695</td>\n",
       "    </tr>\n",
       "    <tr>\n",
       "      <th>DiPedFunc</th>\n",
       "      <td>-0.033523</td>\n",
       "      <td>0.137337</td>\n",
       "      <td>0.041265</td>\n",
       "      <td>0.183928</td>\n",
       "      <td>0.185071</td>\n",
       "      <td>0.140647</td>\n",
       "      <td>1.000000</td>\n",
       "      <td>0.033561</td>\n",
       "      <td>0.173844</td>\n",
       "    </tr>\n",
       "    <tr>\n",
       "      <th>Age</th>\n",
       "      <td>0.544341</td>\n",
       "      <td>0.263514</td>\n",
       "      <td>0.239528</td>\n",
       "      <td>-0.113970</td>\n",
       "      <td>-0.042163</td>\n",
       "      <td>0.036242</td>\n",
       "      <td>0.033561</td>\n",
       "      <td>1.000000</td>\n",
       "      <td>0.238356</td>\n",
       "    </tr>\n",
       "    <tr>\n",
       "      <th>HasDiabetes</th>\n",
       "      <td>0.221898</td>\n",
       "      <td>0.466581</td>\n",
       "      <td>0.065068</td>\n",
       "      <td>0.074752</td>\n",
       "      <td>0.130548</td>\n",
       "      <td>0.292695</td>\n",
       "      <td>0.173844</td>\n",
       "      <td>0.238356</td>\n",
       "      <td>1.000000</td>\n",
       "    </tr>\n",
       "  </tbody>\n",
       "</table>\n",
       "</div>"
      ],
      "text/plain": [
       "               NumTimesPrg  PlGlcConc    BloodP  SkinThick  TwoHourSerIns  \\\n",
       "NumTimesPrg       1.000000   0.129459  0.141282  -0.081672      -0.073535   \n",
       "PlGlcConc         0.129459   1.000000  0.152590   0.057328       0.331357   \n",
       "BloodP            0.141282   0.152590  1.000000   0.207371       0.088933   \n",
       "SkinThick        -0.081672   0.057328  0.207371   1.000000       0.436783   \n",
       "TwoHourSerIns    -0.073535   0.331357  0.088933   0.436783       1.000000   \n",
       "BMI               0.017683   0.221071  0.281805   0.392573       0.197859   \n",
       "DiPedFunc        -0.033523   0.137337  0.041265   0.183928       0.185071   \n",
       "Age               0.544341   0.263514  0.239528  -0.113970      -0.042163   \n",
       "HasDiabetes       0.221898   0.466581  0.065068   0.074752       0.130548   \n",
       "\n",
       "                    BMI  DiPedFunc       Age  HasDiabetes  \n",
       "NumTimesPrg    0.017683  -0.033523  0.544341     0.221898  \n",
       "PlGlcConc      0.221071   0.137337  0.263514     0.466581  \n",
       "BloodP         0.281805   0.041265  0.239528     0.065068  \n",
       "SkinThick      0.392573   0.183928 -0.113970     0.074752  \n",
       "TwoHourSerIns  0.197859   0.185071 -0.042163     0.130548  \n",
       "BMI            1.000000   0.140647  0.036242     0.292695  \n",
       "DiPedFunc      0.140647   1.000000  0.033561     0.173844  \n",
       "Age            0.036242   0.033561  1.000000     0.238356  \n",
       "HasDiabetes    0.292695   0.173844  0.238356     1.000000  "
      ]
     },
     "execution_count": 4,
     "metadata": {
      "tags": []
     },
     "output_type": "execute_result"
    }
   ],
   "source": [
    "#TO DO:"
   ]
  },
  {
   "cell_type": "code",
   "execution_count": 4,
   "metadata": {},
   "outputs": [
    {
     "data": {
      "text/html": [
       "<div>\n",
       "<style scoped>\n",
       "    .dataframe tbody tr th:only-of-type {\n",
       "        vertical-align: middle;\n",
       "    }\n",
       "\n",
       "    .dataframe tbody tr th {\n",
       "        vertical-align: top;\n",
       "    }\n",
       "\n",
       "    .dataframe thead th {\n",
       "        text-align: right;\n",
       "    }\n",
       "</style>\n",
       "<table border=\"1\" class=\"dataframe\">\n",
       "  <thead>\n",
       "    <tr style=\"text-align: right;\">\n",
       "      <th></th>\n",
       "      <th>NumTimesPrg</th>\n",
       "      <th>PlGlcConc</th>\n",
       "      <th>BloodP</th>\n",
       "      <th>SkinThick</th>\n",
       "      <th>TwoHourSerIns</th>\n",
       "      <th>BMI</th>\n",
       "      <th>DiPedFunc</th>\n",
       "      <th>Age</th>\n",
       "      <th>HasDiabetes</th>\n",
       "    </tr>\n",
       "  </thead>\n",
       "  <tbody>\n",
       "    <tr>\n",
       "      <th>NumTimesPrg</th>\n",
       "      <td>1.000000</td>\n",
       "      <td>0.129459</td>\n",
       "      <td>0.141282</td>\n",
       "      <td>-0.081672</td>\n",
       "      <td>-0.073535</td>\n",
       "      <td>0.017683</td>\n",
       "      <td>-0.033523</td>\n",
       "      <td>0.544341</td>\n",
       "      <td>0.221898</td>\n",
       "    </tr>\n",
       "    <tr>\n",
       "      <th>PlGlcConc</th>\n",
       "      <td>0.129459</td>\n",
       "      <td>1.000000</td>\n",
       "      <td>0.152590</td>\n",
       "      <td>0.057328</td>\n",
       "      <td>0.331357</td>\n",
       "      <td>0.221071</td>\n",
       "      <td>0.137337</td>\n",
       "      <td>0.263514</td>\n",
       "      <td>0.466581</td>\n",
       "    </tr>\n",
       "    <tr>\n",
       "      <th>BloodP</th>\n",
       "      <td>0.141282</td>\n",
       "      <td>0.152590</td>\n",
       "      <td>1.000000</td>\n",
       "      <td>0.207371</td>\n",
       "      <td>0.088933</td>\n",
       "      <td>0.281805</td>\n",
       "      <td>0.041265</td>\n",
       "      <td>0.239528</td>\n",
       "      <td>0.065068</td>\n",
       "    </tr>\n",
       "    <tr>\n",
       "      <th>SkinThick</th>\n",
       "      <td>-0.081672</td>\n",
       "      <td>0.057328</td>\n",
       "      <td>0.207371</td>\n",
       "      <td>1.000000</td>\n",
       "      <td>0.436783</td>\n",
       "      <td>0.392573</td>\n",
       "      <td>0.183928</td>\n",
       "      <td>-0.113970</td>\n",
       "      <td>0.074752</td>\n",
       "    </tr>\n",
       "    <tr>\n",
       "      <th>TwoHourSerIns</th>\n",
       "      <td>-0.073535</td>\n",
       "      <td>0.331357</td>\n",
       "      <td>0.088933</td>\n",
       "      <td>0.436783</td>\n",
       "      <td>1.000000</td>\n",
       "      <td>0.197859</td>\n",
       "      <td>0.185071</td>\n",
       "      <td>-0.042163</td>\n",
       "      <td>0.130548</td>\n",
       "    </tr>\n",
       "    <tr>\n",
       "      <th>BMI</th>\n",
       "      <td>0.017683</td>\n",
       "      <td>0.221071</td>\n",
       "      <td>0.281805</td>\n",
       "      <td>0.392573</td>\n",
       "      <td>0.197859</td>\n",
       "      <td>1.000000</td>\n",
       "      <td>0.140647</td>\n",
       "      <td>0.036242</td>\n",
       "      <td>0.292695</td>\n",
       "    </tr>\n",
       "    <tr>\n",
       "      <th>DiPedFunc</th>\n",
       "      <td>-0.033523</td>\n",
       "      <td>0.137337</td>\n",
       "      <td>0.041265</td>\n",
       "      <td>0.183928</td>\n",
       "      <td>0.185071</td>\n",
       "      <td>0.140647</td>\n",
       "      <td>1.000000</td>\n",
       "      <td>0.033561</td>\n",
       "      <td>0.173844</td>\n",
       "    </tr>\n",
       "    <tr>\n",
       "      <th>Age</th>\n",
       "      <td>0.544341</td>\n",
       "      <td>0.263514</td>\n",
       "      <td>0.239528</td>\n",
       "      <td>-0.113970</td>\n",
       "      <td>-0.042163</td>\n",
       "      <td>0.036242</td>\n",
       "      <td>0.033561</td>\n",
       "      <td>1.000000</td>\n",
       "      <td>0.238356</td>\n",
       "    </tr>\n",
       "    <tr>\n",
       "      <th>HasDiabetes</th>\n",
       "      <td>0.221898</td>\n",
       "      <td>0.466581</td>\n",
       "      <td>0.065068</td>\n",
       "      <td>0.074752</td>\n",
       "      <td>0.130548</td>\n",
       "      <td>0.292695</td>\n",
       "      <td>0.173844</td>\n",
       "      <td>0.238356</td>\n",
       "      <td>1.000000</td>\n",
       "    </tr>\n",
       "  </tbody>\n",
       "</table>\n",
       "</div>"
      ],
      "text/plain": [
       "               NumTimesPrg  PlGlcConc    BloodP  SkinThick  TwoHourSerIns  \\\n",
       "NumTimesPrg       1.000000   0.129459  0.141282  -0.081672      -0.073535   \n",
       "PlGlcConc         0.129459   1.000000  0.152590   0.057328       0.331357   \n",
       "BloodP            0.141282   0.152590  1.000000   0.207371       0.088933   \n",
       "SkinThick        -0.081672   0.057328  0.207371   1.000000       0.436783   \n",
       "TwoHourSerIns    -0.073535   0.331357  0.088933   0.436783       1.000000   \n",
       "BMI               0.017683   0.221071  0.281805   0.392573       0.197859   \n",
       "DiPedFunc        -0.033523   0.137337  0.041265   0.183928       0.185071   \n",
       "Age               0.544341   0.263514  0.239528  -0.113970      -0.042163   \n",
       "HasDiabetes       0.221898   0.466581  0.065068   0.074752       0.130548   \n",
       "\n",
       "                    BMI  DiPedFunc       Age  HasDiabetes  \n",
       "NumTimesPrg    0.017683  -0.033523  0.544341     0.221898  \n",
       "PlGlcConc      0.221071   0.137337  0.263514     0.466581  \n",
       "BloodP         0.281805   0.041265  0.239528     0.065068  \n",
       "SkinThick      0.392573   0.183928 -0.113970     0.074752  \n",
       "TwoHourSerIns  0.197859   0.185071 -0.042163     0.130548  \n",
       "BMI            1.000000   0.140647  0.036242     0.292695  \n",
       "DiPedFunc      0.140647   1.000000  0.033561     0.173844  \n",
       "Age            0.036242   0.033561  1.000000     0.238356  \n",
       "HasDiabetes    0.292695   0.173844  0.238356     1.000000  "
      ]
     },
     "execution_count": 4,
     "metadata": {},
     "output_type": "execute_result"
    }
   ],
   "source": [
    "df.corr()"
   ]
  },
  {
   "cell_type": "markdown",
   "metadata": {
    "id": "Q0YpKuUBM1kb"
   },
   "source": [
    "### 4. Render the corr matrix using the heatmap in seaborn."
   ]
  },
  {
   "cell_type": "code",
   "execution_count": null,
   "metadata": {
    "collapsed": true,
    "id": "ll0POqtIM1kc",
    "jupyter": {
     "outputs_hidden": true
    },
    "outputId": "99b49b55-941d-47dc-b62d-26521240524e",
    "tags": []
   },
   "outputs": [
    {
     "data": {
      "text/plain": [
       "<matplotlib.axes._subplots.AxesSubplot at 0x2c5ad4897f0>"
      ]
     },
     "execution_count": 5,
     "metadata": {
      "tags": []
     },
     "output_type": "execute_result"
    },
    {
     "data": {
      "image/png": "[encoded data removed]",
      "text/plain": [
       "<Figure size 432x288 with 2 Axes>"
      ]
     },
     "metadata": {
      "needs_background": "light",
      "tags": []
     },
     "output_type": "display_data"
    }
   ],
   "source": [
    "#TO DO:\n",
    "%matplotlib inline\n"
   ]
  },
  {
   "cell_type": "code",
   "execution_count": 5,
   "metadata": {},
   "outputs": [
    {
     "data": {
      "image/png": "[encoded data removed]",
      "text/plain": [
       "<Figure size 720x432 with 2 Axes>"
      ]
     },
     "metadata": {
      "needs_background": "light"
     },
     "output_type": "display_data"
    }
   ],
   "source": [
    "plt.figure(figsize=(10,6))\n",
    "sns.heatmap(df.corr(),annot=True)\n",
    "plt.show()"
   ]
  },
  {
   "cell_type": "markdown",
   "metadata": {
    "id": "r7DgicVOM1ke"
   },
   "source": [
    "### 5. Print out the column which has the biggest corr number with 'HasDiabetes'."
   ]
  },
  {
   "cell_type": "code",
   "execution_count": null,
   "metadata": {
    "collapsed": true,
    "id": "DoZkwj3oM1ke",
    "jupyter": {
     "outputs_hidden": true
    },
    "outputId": "a4b2510e-9502-42d7-8efb-c6916cd5dea2",
    "tags": []
   },
   "outputs": [
    {
     "name": "stdout",
     "output_type": "stream",
     "text": [
      "0      148\n",
      "1       85\n",
      "2      183\n",
      "3       89\n",
      "4      137\n",
      "5      116\n",
      "6       78\n",
      "7      115\n",
      "8      197\n",
      "9      125\n",
      "10     110\n",
      "11     168\n",
      "12     139\n",
      "13     189\n",
      "14     166\n",
      "15     100\n",
      "16     118\n",
      "17     107\n",
      "18     103\n",
      "19     115\n",
      "20     126\n",
      "21      99\n",
      "22     196\n",
      "23     119\n",
      "24     143\n",
      "25     125\n",
      "26     147\n",
      "27      97\n",
      "28     145\n",
      "29     117\n",
      "      ... \n",
      "738     99\n",
      "739    102\n",
      "740    120\n",
      "741    102\n",
      "742    109\n",
      "743    140\n",
      "744    153\n",
      "745    100\n",
      "746    147\n",
      "747     81\n",
      "748    187\n",
      "749    162\n",
      "750    136\n",
      "751    121\n",
      "752    108\n",
      "753    181\n",
      "754    154\n",
      "755    128\n",
      "756    137\n",
      "757    123\n",
      "758    106\n",
      "759    190\n",
      "760     88\n",
      "761    170\n",
      "762     89\n",
      "763    101\n",
      "764    122\n",
      "765    121\n",
      "766    126\n",
      "767     93\n",
      "Name: PlGlcConc, Length: 768, dtype: int64\n"
     ]
    }
   ],
   "source": []
  },
  {
   "cell_type": "code",
   "execution_count": 6,
   "metadata": {},
   "outputs": [
    {
     "data": {
      "text/plain": [
       "0      148\n",
       "1       85\n",
       "2      183\n",
       "3       89\n",
       "4      137\n",
       "      ... \n",
       "763    101\n",
       "764    122\n",
       "765    121\n",
       "766    126\n",
       "767     93\n",
       "Name: PlGlcConc, Length: 768, dtype: int64"
      ]
     },
     "execution_count": 6,
     "metadata": {},
     "output_type": "execute_result"
    }
   ],
   "source": [
    "df['PlGlcConc']"
   ]
  },
  {
   "cell_type": "markdown",
   "metadata": {
    "id": "gZ5Msu8UM1kg"
   },
   "source": [
    "## Visualize the Dataset\n",
    "Visualizing the data is an important step of the data analysis. With a graphical visualization of the data, we have a better understanding of the various features values distribution: for example, we can understand the average age of the people or the average BMI, etc...\n",
    "\n",
    "We could, of course, limit our inspection to the table visualization, but we could miss important things that may affect our model precision.\n",
    "### 6. Manipulate histogram to represent all data columns in the dataset."
   ]
  },
  {
   "cell_type": "code",
   "execution_count": null,
   "metadata": {
    "collapsed": true,
    "id": "JC3CILgxM1kh",
    "jupyter": {
     "outputs_hidden": true
    },
    "outputId": "27498265-42ad-42be-a9bd-49094a9b6cb5",
    "tags": []
   },
   "outputs": [
    {
     "data": {
      "image/png": "[encoded data removed]",
      "text/plain": [
       "<Figure size 1440x1080 with 9 Axes>"
      ]
     },
     "metadata": {
      "needs_background": "light",
      "tags": []
     },
     "output_type": "display_data"
    }
   ],
   "source": [
    "#TO DO:"
   ]
  },
  {
   "cell_type": "code",
   "execution_count": 7,
   "metadata": {},
   "outputs": [
    {
     "data": {
      "image/png": "[encoded data removed]",
      "text/plain": [
       "<Figure size 1440x864 with 9 Axes>"
      ]
     },
     "metadata": {
      "needs_background": "light"
     },
     "output_type": "display_data"
    }
   ],
   "source": [
    "fig, ax = plt.subplots(3,3)\n",
    "fig.set_figwidth(20)\n",
    "fig.set_figheight(12)\n",
    "list_col = [['Age','BMI','BloodP'],['DiPedFunc','HasDiabetes','NumTimesPrg'],['PlGlcConc','SkinThick','TwoHourSerIns']]\n",
    "for i,col in zip(range(3),list_col):\n",
    "    for j in range(3):\n",
    "        ax[i][j].hist(df[col[j]],bins=50)\n",
    "        ax[i][j].set(title=col[j])\n",
    "        ax[i][j].grid()\n",
    "plt.show()"
   ]
  },
  {
   "cell_type": "markdown",
   "metadata": {
    "button": false,
    "id": "VYSkabikM1kj",
    "new_sheet": false,
    "run_control": {
     "read_only": false
    }
   },
   "source": [
    "An important thing I notice in the dataset (and that wasn't obvious at the beginning) is the fact that some people have null (zero) values for some of the features: it's not quite possible to have 0 for BMI or the blood pressure.\n",
    "\n",
    "How can we deal with similar values? We will see it later during the data transformation phase."
   ]
  },
  {
   "cell_type": "markdown",
   "metadata": {
    "button": false,
    "id": "si5Fgks4M1kj",
    "new_sheet": false,
    "run_control": {
     "read_only": false
    }
   },
   "source": [
    "## Data cleaning and transformation"
   ]
  },
  {
   "cell_type": "markdown",
   "metadata": {
    "button": false,
    "id": "ZDAqJwOaM1kk",
    "new_sheet": false,
    "run_control": {
     "read_only": false
    }
   },
   "source": [
    "We have noticed from the previous analysis that some patients have missing data for some of the features. Machine learning algorithms don't work very well when the data are missing so we have to find a solution to \"clean\" the data we have.\n",
    "\n",
    "The easiest option could be to eliminate all those patients with null/zero values, but in this way, we would eliminate a lot of important data.\n",
    "\n",
    "Another option is to calculate the median value for a specific column and substitute that value everywhere (in the same column) we have zero or null. Let's see how to apply this second method.\n",
    "\n",
    "### 7. Interpolate missing values on ['BMI', 'BloodP', 'PlGlcConc', 'SkinThick',  'TwoHourSerIns'] using median values or any other way which is effective.\n",
    "\n",
    "We haven't transformed all the columns, because of some values which can make sense to be zero (like \"Number of times pregnant\")."
   ]
  },
  {
   "cell_type": "code",
   "execution_count": 8,
   "metadata": {
    "button": false,
    "id": "ccZyY2RbM1kk",
    "new_sheet": false,
    "run_control": {
     "read_only": false
    },
    "tags": []
   },
   "outputs": [],
   "source": [
    "#TO DO:\n",
    "list_col_med = ['PlGlcConc','BloodP', 'SkinThick', 'TwoHourSerIns', 'BMI']\n",
    "for c,i in zip(list_col_med,range(1,6)):\n",
    "    li = df[df[c] == 0][c].index.values.tolist()\n",
    "    for idx in li:\n",
    "        df.iloc[idx,i] = np.median(df[c])"
   ]
  },
  {
   "cell_type": "markdown",
   "metadata": {
    "id": "-8h0P-vLM1kl"
   },
   "source": [
    "## Normalize Data "
   ]
  },
  {
   "cell_type": "markdown",
   "metadata": {
    "id": "GNxKYsijM1km"
   },
   "source": [
    "One of the most important data transformations we need to apply is the features scaling. Basically, most of the machine learning algorithms don't work very well if the features have a different set of values. In our case, for example, the Age ranges from 20 to 80 years old, while the number of times a patient has been pregnant ranges from 0 to 17. For this reason, we need to apply a proper transformation.\n",
    "\n",
    "### 8. Execute Data Standardization using data zero mean and unit variance (don't forget to remove ground truth column before scaling)."
   ]
  },
  {
   "cell_type": "code",
   "execution_count": null,
   "metadata": {
    "id": "S22D1f6QM1km",
    "outputId": "c7e84367-72e5-444f-84b2-cbb3053753ee"
   },
   "outputs": [
    {
     "name": "stderr",
     "output_type": "stream",
     "text": [
      "C:\\Users\\haina\\Anaconda3\\lib\\site-packages\\sklearn\\preprocessing\\data.py:625: DataConversionWarning: Data with input dtype int64, float64 were all converted to float64 by StandardScaler.\n",
      "  return self.partial_fit(X, y)\n",
      "C:\\Users\\haina\\Anaconda3\\lib\\site-packages\\ipykernel_launcher.py:8: DataConversionWarning: Data with input dtype int64, float64 were all converted to float64 by StandardScaler.\n",
      "  \n"
     ]
    }
   ],
   "source": [
    "#TO DO:"
   ]
  },
  {
   "cell_type": "code",
   "execution_count": 9,
   "metadata": {},
   "outputs": [
    {
     "data": {
      "text/html": [
       "<div>\n",
       "<style scoped>\n",
       "    .dataframe tbody tr th:only-of-type {\n",
       "        vertical-align: middle;\n",
       "    }\n",
       "\n",
       "    .dataframe tbody tr th {\n",
       "        vertical-align: top;\n",
       "    }\n",
       "\n",
       "    .dataframe thead th {\n",
       "        text-align: right;\n",
       "    }\n",
       "</style>\n",
       "<table border=\"1\" class=\"dataframe\">\n",
       "  <thead>\n",
       "    <tr style=\"text-align: right;\">\n",
       "      <th></th>\n",
       "      <th>NumTimesPrg</th>\n",
       "      <th>PlGlcConc</th>\n",
       "      <th>BloodP</th>\n",
       "      <th>SkinThick</th>\n",
       "      <th>TwoHourSerIns</th>\n",
       "      <th>BMI</th>\n",
       "      <th>DiPedFunc</th>\n",
       "      <th>Age</th>\n",
       "      <th>HasDiabetes</th>\n",
       "    </tr>\n",
       "  </thead>\n",
       "  <tbody>\n",
       "    <tr>\n",
       "      <th>0</th>\n",
       "      <td>0.639947</td>\n",
       "      <td>0.866045</td>\n",
       "      <td>-0.031990</td>\n",
       "      <td>0.831114</td>\n",
       "      <td>-0.617667</td>\n",
       "      <td>0.167240</td>\n",
       "      <td>0.468492</td>\n",
       "      <td>1.425995</td>\n",
       "      <td>1</td>\n",
       "    </tr>\n",
       "    <tr>\n",
       "      <th>1</th>\n",
       "      <td>-0.844885</td>\n",
       "      <td>-1.205066</td>\n",
       "      <td>-0.528319</td>\n",
       "      <td>0.180566</td>\n",
       "      <td>-0.610526</td>\n",
       "      <td>-0.851551</td>\n",
       "      <td>-0.365061</td>\n",
       "      <td>-0.190672</td>\n",
       "      <td>0</td>\n",
       "    </tr>\n",
       "    <tr>\n",
       "      <th>2</th>\n",
       "      <td>1.233880</td>\n",
       "      <td>2.016662</td>\n",
       "      <td>-0.693761</td>\n",
       "      <td>-0.469981</td>\n",
       "      <td>-0.606956</td>\n",
       "      <td>-1.331838</td>\n",
       "      <td>0.604397</td>\n",
       "      <td>-0.105584</td>\n",
       "      <td>1</td>\n",
       "    </tr>\n",
       "    <tr>\n",
       "      <th>3</th>\n",
       "      <td>-0.844885</td>\n",
       "      <td>-1.073567</td>\n",
       "      <td>-0.528319</td>\n",
       "      <td>-0.469981</td>\n",
       "      <td>-0.013128</td>\n",
       "      <td>-0.633239</td>\n",
       "      <td>-0.920763</td>\n",
       "      <td>-1.041549</td>\n",
       "      <td>0</td>\n",
       "    </tr>\n",
       "    <tr>\n",
       "      <th>4</th>\n",
       "      <td>-1.141852</td>\n",
       "      <td>0.504422</td>\n",
       "      <td>-2.679076</td>\n",
       "      <td>0.831114</td>\n",
       "      <td>0.691375</td>\n",
       "      <td>1.549885</td>\n",
       "      <td>5.484909</td>\n",
       "      <td>-0.020496</td>\n",
       "      <td>1</td>\n",
       "    </tr>\n",
       "  </tbody>\n",
       "</table>\n",
       "</div>"
      ],
      "text/plain": [
       "   NumTimesPrg  PlGlcConc    BloodP  SkinThick  TwoHourSerIns       BMI  \\\n",
       "0     0.639947   0.866045 -0.031990   0.831114      -0.617667  0.167240   \n",
       "1    -0.844885  -1.205066 -0.528319   0.180566      -0.610526 -0.851551   \n",
       "2     1.233880   2.016662 -0.693761  -0.469981      -0.606956 -1.331838   \n",
       "3    -0.844885  -1.073567 -0.528319  -0.469981      -0.013128 -0.633239   \n",
       "4    -1.141852   0.504422 -2.679076   0.831114       0.691375  1.549885   \n",
       "\n",
       "   DiPedFunc       Age  HasDiabetes  \n",
       "0   0.468492  1.425995            1  \n",
       "1  -0.365061 -0.190672            0  \n",
       "2   0.604397 -0.105584            1  \n",
       "3  -0.920763 -1.041549            0  \n",
       "4   5.484909 -0.020496            1  "
      ]
     },
     "execution_count": 9,
     "metadata": {},
     "output_type": "execute_result"
    }
   ],
   "source": [
    "ss = preprocessing.StandardScaler()\n",
    "df.iloc[:,:-1] = ss.fit_transform(df.iloc[:,:-1])\n",
    "df.head()"
   ]
  },
  {
   "cell_type": "markdown",
   "metadata": {
    "button": false,
    "id": "oOHQu_2rM1ko",
    "new_sheet": false,
    "run_control": {
     "read_only": false
    }
   },
   "source": [
    "# Splitting the Dataset"
   ]
  },
  {
   "cell_type": "markdown",
   "metadata": {
    "id": "luDui2xtM1ko"
   },
   "source": [
    "Now that we have transformed the data, we need to split the dataset into two parts: a training dataset and a test dataset. Splitting the dataset is a very important step for supervised machine learning models. Basically, we are going to use the first part to train the model (ignoring the column with the pre-assigned label), then we use the trained model to make predictions on new data (which is the test dataset, not part of the training set) and compare the predicted value with the pre-assigned label.\n",
    "\n",
    "### 9. Split the dataset into 80/20 using the stratified technique and random_state=7."
   ]
  },
  {
   "cell_type": "code",
   "execution_count": 10,
   "metadata": {
    "id": "Xfh4QK1oM1kp"
   },
   "outputs": [],
   "source": [
    "#TO DO:\n",
    "y = df.iloc[:,-1].values\n",
    "X = df.iloc[:,:-1].values"
   ]
  },
  {
   "cell_type": "code",
   "execution_count": 11,
   "metadata": {},
   "outputs": [],
   "source": [
    "from sklearn.model_selection import train_test_split\n",
    "X_train, X_test, y_train, y_test = train_test_split(X, y, test_size=0.2, random_state=7)"
   ]
  },
  {
   "cell_type": "markdown",
   "metadata": {
    "id": "Yk3Y6qVtM1kq"
   },
   "source": [
    "# Additional Question: \n",
    "### Why should we perform data normalization and data splitting before the training step?\n",
    "Type your answer in the cell bellow as the markdown format."
   ]
  },
  {
   "cell_type": "markdown",
   "metadata": {
    "id": "2yXSkeUjM1kr"
   },
   "source": [
    "### TO DO:\n"
   ]
  },
  {
   "cell_type": "markdown",
   "metadata": {},
   "source": [
    "Cần phải làm chuẩn hóa dữ liệu vì mỗi loại dữ liệu (một cột) có 1 đơn vị khác nhau, có khoảng dữ liệu khác nhau, nếu đưa vào mô hình thì mô hình học ko chính xác\n",
    "Việc chia dữ liệu làm các tập training và test để tăng độ chính xác và dùng tập test để kiểm thử, đánh giá mô hình"
   ]
  },
  {
   "cell_type": "markdown",
   "metadata": {
    "id": "6PaVBEAwM1ks"
   },
   "source": [
    "### 10. Print out the proportion of positive/total women who have diabetes on the full dataset, training dataset, and testing dataset."
   ]
  },
  {
   "cell_type": "code",
   "execution_count": null,
   "metadata": {
    "id": "36nXnB7cM1ku",
    "outputId": "59f0f7e2-19e0-4c92-f517-c6fd2d87012d"
   },
   "outputs": [
    {
     "name": "stdout",
     "output_type": "stream",
     "text": [
      "0.3489583333333333\n",
      "0.3485342019543974\n",
      "0.35064935064935066\n"
     ]
    }
   ],
   "source": [
    "#TO DO:"
   ]
  },
  {
   "cell_type": "code",
   "execution_count": 12,
   "metadata": {},
   "outputs": [
    {
     "name": "stdout",
     "output_type": "stream",
     "text": [
      "0.3489583333333333\n",
      "0.34364820846905536\n",
      "0.37012987012987014\n"
     ]
    }
   ],
   "source": [
    "print(df[df['HasDiabetes'] == 1]['HasDiabetes'].count() / df.shape[0])\n",
    "print(np.count_nonzero(y_train==1) / y_train.shape[0])\n",
    "print(np.count_nonzero(y_test==1) / y_test.shape[0])"
   ]
  },
  {
   "cell_type": "markdown",
   "metadata": {
    "button": false,
    "id": "KHXGaCazM1k0",
    "new_sheet": false,
    "run_control": {
     "read_only": false
    }
   },
   "source": [
    "# Classification "
   ]
  },
  {
   "cell_type": "markdown",
   "metadata": {
    "button": false,
    "id": "Q-NwUyDVM1k0",
    "new_sheet": false,
    "run_control": {
     "read_only": false
    }
   },
   "source": [
    "Now, it is your turn, use the training set to build an accurate model. Then use the test set to report the accuracy of the model.\n",
    "\n",
    "You should use the following algorithms:\n",
    "- K Nearest Neighbor(KNN)\n",
    "- Decision Tree\n",
    "- Support Vector Machine\n",
    "- Logistic Regression\n",
    "- Soft voting\n",
    "- Hard voting\n",
    "\n",
    "\n",
    "\n",
    "**__ Notes:__**\n",
    "\n",
    "- You must try to **FINE TUNE AT LEAST 3 PARAMETERS** on each algorithm, except on soft voting and hard voting.\n",
    "- You can go above and change the pre-processing, feature selection, feature extraction, and so on, to make a better model.\n",
    "- You should use either scikit-learn, Scipy or Numpy libraries for developing the classification algorithms.\n",
    "- You should include the code of the algorithm in the following cells."
   ]
  },
  {
   "cell_type": "markdown",
   "metadata": {
    "id": "c8HKeDu9M1k1"
   },
   "source": [
    "# Import Evaluation Metrices"
   ]
  },
  {
   "cell_type": "code",
   "execution_count": 13,
   "metadata": {
    "id": "sZrg6rrsM1k1"
   },
   "outputs": [],
   "source": [
    "from sklearn.metrics import jaccard_score, f1_score, accuracy_score"
   ]
  },
  {
   "cell_type": "code",
   "execution_count": 14,
   "metadata": {
    "id": "TBXdCSP-M1k3"
   },
   "outputs": [],
   "source": [
    "# a dictionary for keeping all scores of the classifiers\n",
    "f1_scores = {'train':{'KNN': 0, 'DT': 0, 'SVM': 0, 'LR': 0, 'EN_HARD': 0, 'EN_SOFT': 0},\n",
    "             'test':{'KNN': 0, 'DT': 0, 'SVM': 0, 'LR': 0, 'EN_HARD': 0, 'EN_SOFT': 0}}\n",
    "jaccard_scores = {'train':{'KNN': 0, 'DT': 0, 'SVM': 0, 'LR': 0, 'EN_HARD': 0, 'EN_SOFT': 0}, \n",
    "                  'test':{'KNN': 0, 'DT': 0, 'SVM': 0, 'LR': 0, 'EN_HARD': 0, 'EN_SOFT': 0}}\n"
   ]
  },
  {
   "cell_type": "markdown",
   "metadata": {
    "id": "ntwqYDm7M1k6"
   },
   "source": [
    "# K Nearest Neighbor(KNN)\n",
    "### 11. Finetune at least 3 parameters to get the KNN model with best accuracy. Then, print out the KNN model's parameters with the best accuracy(best estimator).\n",
    "Hint: Using GridSearchCV in sklearn.model_selection.\n",
    "\n",
    "**Warning:** You should not use the test data for finding the best parameters."
   ]
  },
  {
   "cell_type": "code",
   "execution_count": 15,
   "metadata": {
    "id": "WpD6yCUlM1k7"
   },
   "outputs": [],
   "source": [
    "from sklearn.neighbors import KNeighborsClassifier\n",
    "from sklearn.model_selection import GridSearchCV"
   ]
  },
  {
   "cell_type": "code",
   "execution_count": 16,
   "metadata": {},
   "outputs": [
    {
     "name": "stdout",
     "output_type": "stream",
     "text": [
      "{'algorithm': 'auto', 'leaf_size': 30, 'metric': 'minkowski', 'metric_params': None, 'n_jobs': None, 'n_neighbors': 5, 'p': 2, 'weights': 'uniform'}\n",
      "0.594059405940594\n",
      "0.4225352112676056\n",
      "0.7337662337662337\n"
     ]
    }
   ],
   "source": [
    "knn = KNeighborsClassifier().fit(X_train,y_train)\n",
    "y_hat_knn = knn.predict(X_test)\n",
    "print(knn.get_params())\n",
    "print(f1_score(y_test,y_hat_knn))\n",
    "print(jaccard_score(y_test,y_hat_knn))\n",
    "print(accuracy_score(y_test,y_hat_knn))"
   ]
  },
  {
   "cell_type": "code",
   "execution_count": 17,
   "metadata": {
    "id": "Xw2vbHFKM1k9"
   },
   "outputs": [
    {
     "name": "stdout",
     "output_type": "stream",
     "text": [
      "{'algorithm': 'ball_tree', 'leaf_size': 1, 'n_neighbors': 25, 'weights': 'uniform'}\n",
      "0.7654938024790084\n"
     ]
    }
   ],
   "source": [
    "#TO DO:\n",
    "knn = KNeighborsClassifier()\n",
    "param_grid_knn = {'n_neighbors': np.arange(1, 31),'weights':['uniform','distance'],'algorithm':['ball_tree', 'kd_tree', 'brute'], 'leaf_size':np.arange(1,31)}\n",
    "cv_knn = GridSearchCV(knn,param_grid_knn,cv=5)\n",
    "cv_knn.fit(X_train, y_train)\n",
    "print(cv_knn.best_params_)\n",
    "print(cv_knn.best_score_)"
   ]
  },
  {
   "cell_type": "markdown",
   "metadata": {
    "id": "QLvhv6JrM1lA"
   },
   "source": [
    "# Additional Question: \n",
    "### Interpret and explain the parameters you have chosen to fine tune in KNN algorithm.\n",
    "Type your answer in the cell bellow as markdown format."
   ]
  },
  {
   "cell_type": "markdown",
   "metadata": {
    "id": "qaJt1GeEM1lA"
   },
   "source": [
    "### TO DO:\n"
   ]
  },
  {
   "cell_type": "markdown",
   "metadata": {},
   "source": [
    "Trong thuật toán KNN chọn các tham số:\\\n",
    "-số lượng điểm lân cận, \\\n",
    "-cách đánh trọng số là uniform (các điểm lân cận được đánh giá giống nhau), \\\n",
    "-thuật toán, leaf_size"
   ]
  },
  {
   "cell_type": "markdown",
   "metadata": {
    "id": "GsPgXPEpM1lB"
   },
   "source": [
    "### 12. Run the prediction on KNN models on training data and test data, then calculate the f1 score and Jaccard similarity score and save it to f1_scores dict and jaccard_scores dict.  \n",
    "**Requirement**: F1 score on test data must be higher than **0.6**, Jaccard similarity score must be higher than **0.75**."
   ]
  },
  {
   "cell_type": "code",
   "execution_count": null,
   "metadata": {
    "id": "GxclqWk1M1lB",
    "outputId": "2998eea4-278e-4570-9ba4-a219b812d0b4"
   },
   "outputs": [
    {
     "name": "stdout",
     "output_type": "stream",
     "text": [
      "f1_scores: \n",
      " {'train': {'KNN': 0.6596306068601584, 'DT': 0, 'SVM': 0, 'LR': 0, 'EN_HARD': 0, 'EN_SOFT': 0}, 'test': {'KNN': 0.6236559139784946, 'DT': 0, 'SVM': 0, 'LR': 0, 'EN_HARD': 0, 'EN_SOFT': 0}}\n",
      "jaccard_scores: \n",
      " {'train': {'KNN': 0.7899022801302932, 'DT': 0, 'SVM': 0, 'LR': 0, 'EN_HARD': 0, 'EN_SOFT': 0}, 'test': {'KNN': 0.7727272727272727, 'DT': 0, 'SVM': 0, 'LR': 0, 'EN_HARD': 0, 'EN_SOFT': 0}}\n"
     ]
    }
   ],
   "source": [
    "#TO DO:"
   ]
  },
  {
   "cell_type": "code",
   "execution_count": 20,
   "metadata": {},
   "outputs": [
    {
     "name": "stdout",
     "output_type": "stream",
     "text": [
      "F1-score train: 0.6556\n",
      "Jaccard score train: 0.4877\n",
      "Accuracy score train: 0.7964\n",
      "F1-score test: 0.6804\n",
      "Jaccard score test: 0.5156\n",
      "Accuracy score test: 0.7987\n"
     ]
    }
   ],
   "source": [
    "knn = KNeighborsClassifier(n_neighbors = 25, algorithm = 'ball_tree', weights = 'uniform', leaf_size = 1).fit(X_train,y_train)\n",
    "\n",
    "y_train_hat_knn = knn.predict(X_train)\n",
    "print(\"F1-score train: %.4f\" % f1_score(y_train, y_train_hat_knn))\n",
    "print(\"Jaccard score train: %.4f\" % jaccard_score(y_train, y_train_hat_knn))\n",
    "print('Accuracy score train: %.4f' % accuracy_score(y_train, y_train_hat_knn))\n",
    "\n",
    "y_hat_knn = knn.predict(X_test)\n",
    "print(\"F1-score test: %.4f\" % f1_score(y_test, y_hat_knn))\n",
    "print(\"Jaccard score test: %.4f\" % jaccard_score(y_test, y_hat_knn))\n",
    "print('Accuracy score test: %.4f' % accuracy_score(y_test,y_hat_knn))"
   ]
  },
  {
   "cell_type": "code",
   "execution_count": 21,
   "metadata": {},
   "outputs": [
    {
     "name": "stdout",
     "output_type": "stream",
     "text": [
      "f1_score:\n",
      " {'train': {'KNN': 0.6556473829201104, 'DT': 0, 'SVM': 0, 'LR': 0, 'EN_HARD': 0, 'EN_SOFT': 0}, 'test': {'KNN': 0.6804123711340206, 'DT': 0, 'SVM': 0, 'LR': 0, 'EN_HARD': 0, 'EN_SOFT': 0}}\n",
      "jaccard_score:\n",
      " {'train': {'KNN': 0.7987012987012987, 'DT': 0, 'SVM': 0, 'LR': 0, 'EN_HARD': 0, 'EN_SOFT': 0}, 'test': {'KNN': 0.7964169381107492, 'DT': 0, 'SVM': 0, 'LR': 0, 'EN_HARD': 0, 'EN_SOFT': 0}}\n"
     ]
    }
   ],
   "source": [
    "f1_scores['train']['KNN'] = f1_score(y_train,y_train_hat_knn)\n",
    "f1_scores['test']['KNN'] = f1_score(y_test,y_hat_knn)\n",
    "jaccard_scores['train']['KNN'] = accuracy_score(y_test,y_hat_knn)\n",
    "jaccard_scores['test']['KNN'] = accuracy_score(y_train, y_train_hat_knn)\n",
    "print('f1_score:\\n',f1_scores)\n",
    "print('jaccard_score:\\n',jaccard_scores)"
   ]
  },
  {
   "cell_type": "markdown",
   "metadata": {
    "id": "NXIl2GGLM1lE"
   },
   "source": [
    "# Decision Tree"
   ]
  },
  {
   "cell_type": "markdown",
   "metadata": {
    "id": "kW11u1k6M1lF"
   },
   "source": [
    "### 13, 14. Perform task 11 and 12 on the DT model.\n",
    "\n",
    "Hint: Using GridSearchCV in sklearn.model_selection.\n",
    "\n",
    "**Warning**: You should not use the test data for finding the best parameters.\n",
    "\n",
    "**Requirement**: F1 score on test data has to higher than **0.6**, the Jaccard similarity score must be higher than **0.73**."
   ]
  },
  {
   "cell_type": "code",
   "execution_count": 22,
   "metadata": {
    "id": "CnE8pvjvM1lG"
   },
   "outputs": [],
   "source": [
    "from sklearn import tree"
   ]
  },
  {
   "cell_type": "code",
   "execution_count": 23,
   "metadata": {},
   "outputs": [
    {
     "name": "stdout",
     "output_type": "stream",
     "text": [
      "{'ccp_alpha': 0.0, 'class_weight': None, 'criterion': 'gini', 'max_depth': None, 'max_features': None, 'max_leaf_nodes': None, 'min_impurity_decrease': 0.0, 'min_impurity_split': None, 'min_samples_leaf': 1, 'min_samples_split': 2, 'min_weight_fraction_leaf': 0.0, 'random_state': None, 'splitter': 'best'}\n",
      "0.6666666666666667\n",
      "0.5\n",
      "0.7467532467532467\n"
     ]
    }
   ],
   "source": [
    "dctree = tree.DecisionTreeClassifier().fit(X_train, y_train)\n",
    "y_hat_dc = dctree.predict(X_test)\n",
    "print(dctree.get_params())\n",
    "print(f1_score(y_test,y_hat_dc))\n",
    "print(jaccard_score(y_test,y_hat_dc))\n",
    "print(accuracy_score(y_test,y_hat_dc))"
   ]
  },
  {
   "cell_type": "code",
   "execution_count": 24,
   "metadata": {
    "id": "RPdHH2HiM1lI"
   },
   "outputs": [
    {
     "name": "stdout",
     "output_type": "stream",
     "text": [
      "{'criterion': 'entropy', 'max_features': None, 'min_samples_leaf': 12, 'min_samples_split': 2, 'random_state': 42}\n",
      "0.7475009996001599\n"
     ]
    }
   ],
   "source": [
    "#TO DO:\n",
    "dctree = tree.DecisionTreeClassifier()\n",
    "param_grid_dctree = {'criterion':['gini', 'entropy'], 'max_features':['auto', 'sqrt', 'log2', None],\n",
    "                     'random_state':[42],'min_samples_split': np.arange(2, 15), 'min_samples_leaf':np.arange(2, 15)}\n",
    "cv_dectree = GridSearchCV(dctree, param_grid_dctree, cv = 5 )\n",
    "cv_dectree.fit(X_train,y_train)\n",
    "print(cv_dectree.best_params_)\n",
    "print(cv_dectree.best_score_)"
   ]
  },
  {
   "cell_type": "markdown",
   "metadata": {
    "id": "0ZjQch2RM1lL"
   },
   "source": [
    "# Additional Question: \n",
    "### Interpret and explain the parameters you have chosen to fine tune in DT algorithm.\n",
    "Type your answer in the cell bellow as the markdown format."
   ]
  },
  {
   "cell_type": "markdown",
   "metadata": {},
   "source": [
    "Với mô hình Decision Tree, ta dùng các tham số: \\\n",
    "-criterion, là hàm đo lường chất lượng của việc phân chia, \\\n",
    "-gini: Gini impurity, entropy: information gain\\\n",
    "-max_feature: The number of features to consider when looking for the best split\\\n",
    "-random_state: Controls the randomness of the estimator\\\n",
    "-min_samples_split: The minimum number of samples required to split an internal node\\\n",
    "-min_samples_leaf: The minimum number of samples required to be at a leaf node"
   ]
  },
  {
   "cell_type": "markdown",
   "metadata": {
    "id": "g4aBT64WM1lL"
   },
   "source": [
    "### TO DO:\n"
   ]
  },
  {
   "cell_type": "code",
   "execution_count": null,
   "metadata": {
    "id": "5j2yBhnrM1lM",
    "outputId": "57d49035-a2ba-49f5-ed4d-407039ec79c7"
   },
   "outputs": [
    {
     "name": "stdout",
     "output_type": "stream",
     "text": [
      "f1_scores: \n",
      " {'train': {'KNN': 0.6596306068601584, 'DT': 0.6509433962264151, 'SVM': 0, 'LR': 0, 'EN_HARD': 0, 'EN_SOFT': 0}, 'test': {'KNN': 0.6236559139784946, 'DT': 0.62, 'SVM': 0, 'LR': 0, 'EN_HARD': 0, 'EN_SOFT': 0}}\n",
      "jaccard_scores: \n",
      " {'train': {'KNN': 0.7899022801302932, 'DT': 0.758957654723127, 'SVM': 0, 'LR': 0, 'EN_HARD': 0, 'EN_SOFT': 0}, 'test': {'KNN': 0.7727272727272727, 'DT': 0.7532467532467533, 'SVM': 0, 'LR': 0, 'EN_HARD': 0, 'EN_SOFT': 0}}\n"
     ]
    }
   ],
   "source": [
    "#TO DO:"
   ]
  },
  {
   "cell_type": "code",
   "execution_count": 25,
   "metadata": {},
   "outputs": [
    {
     "name": "stdout",
     "output_type": "stream",
     "text": [
      "F1-score train: 0.6556\n",
      "Jaccard score train: 0.4877\n",
      "Accuracy score train: 0.7964\n",
      "F1-score test: 0.6789\n",
      "Jaccard score test: 0.5139\n",
      "Accuracy score test: 0.7727\n"
     ]
    }
   ],
   "source": [
    "dctree = tree.DecisionTreeClassifier(criterion = 'entropy', max_features = None, min_samples_leaf = 12, min_samples_split = 2, random_state = 42).fit(X_train,y_train)\n",
    "y_train_hat_dctree = knn.predict(X_train)\n",
    "print(\"F1-score train: %.4f\" % f1_score(y_train, y_train_hat_dctree))\n",
    "print(\"Jaccard score train: %.4f\" % jaccard_score(y_train, y_train_hat_dctree))\n",
    "print(\"Accuracy score train: %.4f\" % accuracy_score(y_train, y_train_hat_dctree))\n",
    "y_hat_dctree = dctree.predict(X_test)\n",
    "print(\"F1-score test: %.4f\" % f1_score(y_test, y_hat_dctree))\n",
    "print(\"Jaccard score test: %.4f\" % jaccard_score(y_test, y_hat_dctree))\n",
    "print(\"Accuracy score test: %.4f\" % accuracy_score(y_test, y_hat_dctree))"
   ]
  },
  {
   "cell_type": "code",
   "execution_count": 26,
   "metadata": {},
   "outputs": [
    {
     "name": "stdout",
     "output_type": "stream",
     "text": [
      "f1_score:\n",
      " {'train': {'KNN': 0.6556473829201104, 'DT': 0.6556473829201104, 'SVM': 0, 'LR': 0, 'EN_HARD': 0, 'EN_SOFT': 0}, 'test': {'KNN': 0.6804123711340206, 'DT': 0.6788990825688075, 'SVM': 0, 'LR': 0, 'EN_HARD': 0, 'EN_SOFT': 0}}\n",
      "jaccard_score:\n",
      " {'train': {'KNN': 0.7987012987012987, 'DT': 0.8469055374592834, 'SVM': 0, 'LR': 0, 'EN_HARD': 0, 'EN_SOFT': 0}, 'test': {'KNN': 0.7964169381107492, 'DT': 0.7727272727272727, 'SVM': 0, 'LR': 0, 'EN_HARD': 0, 'EN_SOFT': 0}}\n"
     ]
    }
   ],
   "source": [
    "f1_scores['train']['DT'] = f1_score(y_train,y_train_hat_dctree)\n",
    "f1_scores['test']['DT'] = f1_score(y_test,y_hat_dctree)\n",
    "jaccard_scores['train']['DT'] = dctree.score(X_train,y_train)\n",
    "jaccard_scores['test']['DT'] = dctree.score(X_test,y_test)\n",
    "print('f1_score:\\n',f1_scores)\n",
    "print('jaccard_score:\\n',jaccard_scores)"
   ]
  },
  {
   "cell_type": "markdown",
   "metadata": {
    "id": "nd4a59C6M1lQ"
   },
   "source": [
    "# Support Vector Machine"
   ]
  },
  {
   "cell_type": "markdown",
   "metadata": {
    "id": "sn_wfdWpM1lR"
   },
   "source": [
    "### 15, 16. Perform task 11 and 12 on SVM models.\n",
    "\n",
    "Hint: Using GridSearchCV in sklearn.model_selection.\n",
    "\n",
    "**Warning**: You should not use the test data for finding the best parameters.\n",
    "\n",
    "**Requirement**: F1 score on test data has to higher than **0.62**, Jaccard similarity score must be higher than **0.75**."
   ]
  },
  {
   "cell_type": "code",
   "execution_count": 27,
   "metadata": {
    "id": "WUwo79EMM1lR"
   },
   "outputs": [],
   "source": [
    "from sklearn.svm import SVC"
   ]
  },
  {
   "cell_type": "code",
   "execution_count": 28,
   "metadata": {},
   "outputs": [
    {
     "name": "stdout",
     "output_type": "stream",
     "text": [
      "{'C': 1.0, 'break_ties': False, 'cache_size': 200, 'class_weight': None, 'coef0': 0.0, 'decision_function_shape': 'ovr', 'degree': 3, 'gamma': 'scale', 'kernel': 'rbf', 'max_iter': -1, 'probability': False, 'random_state': None, 'shrinking': True, 'tol': 0.001, 'verbose': False}\n",
      "0.7524752475247524\n",
      "0.6031746031746031\n",
      "0.8376623376623377\n"
     ]
    }
   ],
   "source": [
    "svc = SVC().fit(X_train,y_train)\n",
    "y_hat_test_svc = svc.predict(X_test)\n",
    "print(svc.get_params())\n",
    "print(f1_score(y_test, y_hat_test_svc))\n",
    "print(jaccard_score(y_test, y_hat_test_svc))\n",
    "print(accuracy_score(y_test,y_hat_test_svc))"
   ]
  },
  {
   "cell_type": "code",
   "execution_count": 29,
   "metadata": {
    "id": "JMxZtQa8M1lT"
   },
   "outputs": [
    {
     "name": "stdout",
     "output_type": "stream",
     "text": [
      "{'C': 2.4000000000000012, 'coef0': 0.01, 'degree': 3, 'gamma': 'auto', 'kernel': 'linear'}\n",
      "0.7671064907370386\n"
     ]
    }
   ],
   "source": [
    "#TO DO:\n",
    "svc = SVC()\n",
    "param_grid_svc = {'kernel':['linear','rbf'],\n",
    "                  'C':np.arange(1,5.1,0.1),\n",
    "                  'degree':np.arange(3,6),\n",
    "                  'coef0':np.arange(0.01,3,0.5),\n",
    "                  'gamma': ['auto', 'scale']\n",
    "                  }\n",
    "cv_svc = GridSearchCV(svc, param_grid_svc,cv=5)\n",
    "cv_svc.fit(X_train,y_train)\n",
    "print(cv_svc.best_params_)\n",
    "print(cv_svc.best_score_)"
   ]
  },
  {
   "cell_type": "markdown",
   "metadata": {
    "id": "03XgTdoPM1lW",
    "tags": []
   },
   "source": [
    "# Additional Question: \n",
    "### Interpret and explain the parameters you have chosen to fine tune in SVM algorithm.\n",
    "Type your answer in the cell bellow as the markdown format."
   ]
  },
  {
   "cell_type": "markdown",
   "metadata": {},
   "source": [
    "Với mô hình Support vector machine, các tham số được điều chỉnh là:\\\n",
    "-C: Regularization parameter. The strength of the regularization is inversely proportional to C\\\n",
    "-coef0: Independent term in kernel function. It is only significant in ‘poly’ and ‘sigmoid’.\\\n",
    "-gamma: Kernel coefficient for ‘rbf’, ‘poly’ and ‘sigmoid’.\\\n",
    "-kernel: Specifies the kernel type to be used in the algorithm\\\n",
    "-degree: Degree of the polynomial kernel function ('poly')"
   ]
  },
  {
   "cell_type": "markdown",
   "metadata": {
    "id": "wz0N8-CIM1lW"
   },
   "source": [
    "### TO DO:\n"
   ]
  },
  {
   "cell_type": "code",
   "execution_count": null,
   "metadata": {
    "id": "z0eWOaUaM1lX",
    "outputId": "160ada70-d335-4496-8264-65913288a7b6"
   },
   "outputs": [
    {
     "name": "stdout",
     "output_type": "stream",
     "text": [
      "f1_scores: \n",
      " {'train': {'KNN': 0.6596306068601584, 'DT': 0.6509433962264151, 'SVM': 0.6141304347826086, 'LR': 0, 'EN_HARD': 0, 'EN_SOFT': 0}, 'test': {'KNN': 0.6236559139784946, 'DT': 0.62, 'SVM': 0.6464646464646464, 'LR': 0, 'EN_HARD': 0, 'EN_SOFT': 0}}\n",
      "jaccard_scores: \n",
      " {'train': {'KNN': 0.7899022801302932, 'DT': 0.758957654723127, 'SVM': 0.7687296416938111, 'LR': 0, 'EN_HARD': 0, 'EN_SOFT': 0}, 'test': {'KNN': 0.7727272727272727, 'DT': 0.7532467532467533, 'SVM': 0.7727272727272727, 'LR': 0, 'EN_HARD': 0, 'EN_SOFT': 0}}\n"
     ]
    }
   ],
   "source": [
    "#TO DO:"
   ]
  },
  {
   "cell_type": "code",
   "execution_count": 30,
   "metadata": {},
   "outputs": [
    {
     "name": "stdout",
     "output_type": "stream",
     "text": [
      "F1-score train: 0.6270\n",
      "Jaccard score train: 0.4567\n",
      "Accuracy score train: 0.7752\n",
      "F1-score test: 0.6327\n",
      "Jaccard score test: 0.4627\n",
      "Accuracy score test: 0.7662\n"
     ]
    }
   ],
   "source": [
    "svc = SVC(C=2.4,coef0=0.01,gamma='auto',kernel='linear').fit(X_train, y_train)\n",
    "y_train_hat_svc = svc.predict(X_train)\n",
    "print(\"F1-score train: %.4f\" % f1_score(y_train, y_train_hat_svc))\n",
    "print(\"Jaccard score train: %.4f\" % jaccard_score(y_train, y_train_hat_svc))\n",
    "print(\"Accuracy score train: %.4f\" % accuracy_score(y_train, y_train_hat_svc))\n",
    "y_hat_svc = svc.predict(X_test)\n",
    "print(\"F1-score test: %.4f\" % f1_score(y_test, y_hat_svc))\n",
    "print(\"Jaccard score test: %.4f\" % jaccard_score(y_test, y_hat_svc))\n",
    "print(\"Accuracy score test: %.4f\" % accuracy_score(y_test, y_hat_svc))"
   ]
  },
  {
   "cell_type": "code",
   "execution_count": 31,
   "metadata": {},
   "outputs": [
    {
     "name": "stdout",
     "output_type": "stream",
     "text": [
      "f1_score:\n",
      " {'train': {'KNN': 0.6556473829201104, 'DT': 0.6556473829201104, 'SVM': 0.6270270270270271, 'LR': 0, 'EN_HARD': 0, 'EN_SOFT': 0}, 'test': {'KNN': 0.6804123711340206, 'DT': 0.6788990825688075, 'SVM': 0.6326530612244897, 'LR': 0, 'EN_HARD': 0, 'EN_SOFT': 0}}\n",
      "jaccard_score:\n",
      " {'train': {'KNN': 0.7987012987012987, 'DT': 0.8469055374592834, 'SVM': 0.7752442996742671, 'LR': 0, 'EN_HARD': 0, 'EN_SOFT': 0}, 'test': {'KNN': 0.7964169381107492, 'DT': 0.7727272727272727, 'SVM': 0.7662337662337663, 'LR': 0, 'EN_HARD': 0, 'EN_SOFT': 0}}\n"
     ]
    }
   ],
   "source": [
    "f1_scores['train']['SVM'] = f1_score(y_train,y_train_hat_svc)\n",
    "f1_scores['test']['SVM'] = f1_score(y_test,y_hat_svc)\n",
    "jaccard_scores['train']['SVM'] = accuracy_score(y_train, y_train_hat_svc)\n",
    "jaccard_scores['test']['SVM'] = accuracy_score(y_test, y_hat_svc)\n",
    "print('f1_score:\\n',f1_scores)\n",
    "print('jaccard_score:\\n',jaccard_scores)"
   ]
  },
  {
   "cell_type": "markdown",
   "metadata": {
    "id": "xRVAKHEkM1la"
   },
   "source": [
    "# Logistic Regression"
   ]
  },
  {
   "cell_type": "markdown",
   "metadata": {
    "id": "nTQkBQIXM1la"
   },
   "source": [
    "### 17, 18. Perform task 11 and 12 on Logistic Regression model.\n",
    "\n",
    "Hint: Using GridSearchCV in sklearn.model_selection.\n",
    "\n",
    "**Warning**: You should not use the test data for finding the best parameters.\n",
    "\n",
    "**Requirement**: F1 score on test data has to higher than **0.63**, Jaccard similarity score must be higher than **0.75**."
   ]
  },
  {
   "cell_type": "code",
   "execution_count": 32,
   "metadata": {
    "id": "cWFYayQLM1lb"
   },
   "outputs": [],
   "source": [
    "from sklearn.linear_model import LogisticRegression"
   ]
  },
  {
   "cell_type": "code",
   "execution_count": 33,
   "metadata": {},
   "outputs": [
    {
     "name": "stdout",
     "output_type": "stream",
     "text": [
      "{'C': 1.0, 'class_weight': None, 'dual': False, 'fit_intercept': True, 'intercept_scaling': 1, 'l1_ratio': None, 'max_iter': 100, 'multi_class': 'auto', 'n_jobs': None, 'penalty': 'l2', 'random_state': None, 'solver': 'lbfgs', 'tol': 0.0001, 'verbose': 0, 'warm_start': False}\n",
      "0.6464646464646465\n",
      "0.47761194029850745\n",
      "0.7727272727272727\n"
     ]
    }
   ],
   "source": [
    "lr = LogisticRegression().fit(X_train,y_train)\n",
    "y_hat_lr = lr.predict(X_test)\n",
    "print(lr.get_params())\n",
    "print(f1_score(y_test,y_hat_lr))\n",
    "print(jaccard_score(y_test,y_hat_lr))\n",
    "print(accuracy_score(y_test,y_hat_lr))"
   ]
  },
  {
   "cell_type": "code",
   "execution_count": 34,
   "metadata": {
    "id": "7szXdAHTM1lc"
   },
   "outputs": [
    {
     "name": "stdout",
     "output_type": "stream",
     "text": [
      "{'C': 0.30000000000000004, 'solver': 'newton-cg'}\n",
      "0.773610555777689\n"
     ]
    }
   ],
   "source": [
    "#TO DO:\n",
    "lr = LogisticRegression()\n",
    "param_grid_lr = {\"C\":np.arange(0.1, 1.1, 0.1),'solver':['newton-cg', 'lbfgs', 'liblinear', 'sag', 'saga']}\n",
    "cv_lr = GridSearchCV(lr,param_grid_lr,cv=5)\n",
    "cv_lr.fit(X_train,y_train)\n",
    "print(cv_lr.best_params_)\n",
    "print(cv_lr.best_score_)"
   ]
  },
  {
   "cell_type": "markdown",
   "metadata": {
    "id": "pfPytCDYM1le"
   },
   "source": [
    "# Additional Question: \n",
    "### Interpret and explain the parameters you have chosen to fine tune in LR algorithm.\n",
    "Type your answer in the cell bellow as the markdown format."
   ]
  },
  {
   "cell_type": "markdown",
   "metadata": {},
   "source": [
    "Mô hình Logistic regression, các tham số được điều chỉnh là:\\\n",
    "-C: Inverse of regularization strength\\\n",
    "-solver: Algorithm to use in the optimization problem"
   ]
  },
  {
   "cell_type": "markdown",
   "metadata": {
    "id": "RmPs5O5RM1lf"
   },
   "source": [
    "### TO DO:\n"
   ]
  },
  {
   "cell_type": "code",
   "execution_count": null,
   "metadata": {
    "id": "c4zNUUR_M1lg",
    "outputId": "598e4d30-b9a5-457a-b149-14a651ccff1a"
   },
   "outputs": [
    {
     "name": "stdout",
     "output_type": "stream",
     "text": [
      "f1_scores: \n",
      " {'train': {'KNN': 0.6596306068601584, 'DT': 0.6509433962264151, 'SVM': 0.6141304347826086, 'LR': 0.6243386243386243, 'EN_HARD': 0, 'EN_SOFT': 0}, 'test': {'KNN': 0.6236559139784946, 'DT': 0.62, 'SVM': 0.6464646464646464, 'LR': 0.6534653465346535, 'EN_HARD': 0, 'EN_SOFT': 0}}\n",
      "jaccard_scores: \n",
      " {'train': {'KNN': 0.7899022801302932, 'DT': 0.758957654723127, 'SVM': 0.7687296416938111, 'LR': 0.7687296416938111, 'EN_HARD': 0, 'EN_SOFT': 0}, 'test': {'KNN': 0.7727272727272727, 'DT': 0.7532467532467533, 'SVM': 0.7727272727272727, 'LR': 0.7727272727272727, 'EN_HARD': 0, 'EN_SOFT': 0}}\n"
     ]
    }
   ],
   "source": [
    "#TO DO:"
   ]
  },
  {
   "cell_type": "code",
   "execution_count": 35,
   "metadata": {},
   "outputs": [
    {
     "name": "stdout",
     "output_type": "stream",
     "text": [
      "F1-score train: 0.6344\n",
      "Jaccard score train: 0.4646\n",
      "Accuracy score train: 0.7785\n",
      "F1-score test: 0.6600\n",
      "Jaccard score test: 0.4925\n",
      "Accuracy score test: 0.7792\n"
     ]
    }
   ],
   "source": [
    "lr = LogisticRegression(C=0.3,solver='sag').fit(X_train, y_train)\n",
    "y_train_hat_lr = lr.predict(X_train)\n",
    "print(\"F1-score train: %.4f\" % f1_score(y_train, y_train_hat_lr))\n",
    "print(\"Jaccard score train: %.4f\" % jaccard_score(y_train, y_train_hat_lr))\n",
    "print(\"Accuracy score train: %.4f\" % accuracy_score(y_train, y_train_hat_lr))\n",
    "y_hat_lr = lr.predict(X_test)\n",
    "print(\"F1-score test: %.4f\" % f1_score(y_test, y_hat_lr))\n",
    "print(\"Jaccard score test: %.4f\" % jaccard_score(y_test, y_hat_lr))\n",
    "print(\"Accuracy score test: %.4f\" % accuracy_score(y_test, y_hat_lr))"
   ]
  },
  {
   "cell_type": "code",
   "execution_count": 50,
   "metadata": {},
   "outputs": [
    {
     "name": "stdout",
     "output_type": "stream",
     "text": [
      "f1_score:\n",
      " {'train': {'KNN': 0.6556473829201104, 'DT': 0.6556473829201104, 'SVM': 0.6270270270270271, 'LR': 0.6344086021505376, 'EN_HARD': 0, 'EN_SOFT': 0}, 'test': {'KNN': 0.6804123711340206, 'DT': 0.6788990825688075, 'SVM': 0.6326530612244897, 'LR': 0.66, 'EN_HARD': 0, 'EN_SOFT': 0}}\n",
      "jaccard_score:\n",
      " {'train': {'KNN': 0.7987012987012987, 'DT': 0.8469055374592834, 'SVM': 0.7752442996742671, 'LR': 0.7785016286644951, 'EN_HARD': 0, 'EN_SOFT': 0}, 'test': {'KNN': 0.7964169381107492, 'DT': 0.7727272727272727, 'SVM': 0.7662337662337663, 'LR': 0.7792207792207793, 'EN_HARD': 0, 'EN_SOFT': 0}}\n"
     ]
    }
   ],
   "source": [
    "f1_scores['train']['LR'] = f1_score(y_train,y_train_hat_lr)\n",
    "f1_scores['test']['LR'] = f1_score(y_test,y_hat_lr)\n",
    "jaccard_scores['train']['LR'] = accuracy_score(y_train, y_train_hat_lr)\n",
    "jaccard_scores['test']['LR'] = accuracy_score(y_test, y_hat_lr)\n",
    "print('f1_score:\\n',f1_scores)\n",
    "print('jaccard_score:\\n',jaccard_scores)"
   ]
  },
  {
   "cell_type": "markdown",
   "metadata": {
    "id": "xhThcwLYM1li"
   },
   "source": [
    "# Advanced part (15%  of the total score)"
   ]
  },
  {
   "cell_type": "markdown",
   "metadata": {
    "id": "eRc5JoN7M1lo"
   },
   "source": [
    "# Ensemble model"
   ]
  },
  {
   "cell_type": "markdown",
   "metadata": {
    "id": "8-eteyNxM1lo"
   },
   "source": [
    "### 19. Perform soft voting on the 4 above models (using the same setting for the 4 models as in previous steps.) \n",
    "**Hint**: Using VotingClassifier in sklearn.ensemble."
   ]
  },
  {
   "cell_type": "code",
   "execution_count": 37,
   "metadata": {
    "id": "G7FfposgM1lp"
   },
   "outputs": [],
   "source": [
    "from sklearn.ensemble import VotingClassifier"
   ]
  },
  {
   "cell_type": "code",
   "execution_count": 78,
   "metadata": {
    "id": "J-EjCxe6M1ls"
   },
   "outputs": [],
   "source": [
    "#TO DO:\n",
    "#create a dictionary of our models\n",
    "clf1 = KNeighborsClassifier(n_neighbors = 25, algorithm = 'ball_tree', weights = 'uniform', leaf_size = 1)\n",
    "clf2 = tree.DecisionTreeClassifier(criterion = 'entropy', max_features = None, min_samples_leaf = 12, min_samples_split = 2, random_state = 42)\n",
    "clf3 = SVC(C=2.4,coef0=0.01,gamma='auto',kernel='linear', probability = True)\n",
    "clf4 = LogisticRegression(C=0.3,solver='sag')\n",
    "#create our voting classifier, inputting our models\n",
    "eclf_soft = VotingClassifier(estimators=[\n",
    "        ('knn', clf1), ('dt', clf2), ('svc', clf3), ('lr', clf4)], voting='soft')\n",
    "eclf_soft = eclf_soft.fit(X_train, y_train)"
   ]
  },
  {
   "cell_type": "markdown",
   "metadata": {
    "id": "vZu5N_i3M1lu"
   },
   "source": [
    "### 20. Run the prediction on the ensembling model using soft voting on training data and test data, then calculate the f1 score and Jaccard similarity score and save it to f1_scores dict and jaccard_scores dict.\n",
    "\n",
    "**Requirement**: F1 score on test data must be higher than **0.66**, Jaccard similarity score must be higher than **0.78**."
   ]
  },
  {
   "cell_type": "code",
   "execution_count": null,
   "metadata": {
    "id": "SeuL7a0rM1lu",
    "outputId": "d8bb60eb-eb8d-4bcc-d478-d96b8673e3bf"
   },
   "outputs": [
    {
     "name": "stdout",
     "output_type": "stream",
     "text": [
      "f1_scores: \n",
      " {'train': {'KNN': 0.6596306068601584, 'DT': 0.6509433962264151, 'SVM': 0.6141304347826086, 'LR': 0.6243386243386243, 'EN_HARD': 0, 'EN_SOFT': 0.6541554959785523}, 'test': {'KNN': 0.6236559139784946, 'DT': 0.62, 'SVM': 0.6464646464646464, 'LR': 0.6534653465346535, 'EN_HARD': 0, 'EN_SOFT': 0.6808510638297872}}\n",
      "jaccard_scores: \n",
      " {'train': {'KNN': 0.7899022801302932, 'DT': 0.758957654723127, 'SVM': 0.7687296416938111, 'LR': 0.7687296416938111, 'EN_HARD': 0, 'EN_SOFT': 0.7899022801302932}, 'test': {'KNN': 0.7727272727272727, 'DT': 0.7532467532467533, 'SVM': 0.7727272727272727, 'LR': 0.7727272727272727, 'EN_HARD': 0, 'EN_SOFT': 0.8051948051948052}}\n"
     ]
    }
   ],
   "source": [
    "#TO DO:\n"
   ]
  },
  {
   "cell_type": "code",
   "execution_count": 79,
   "metadata": {},
   "outputs": [
    {
     "name": "stdout",
     "output_type": "stream",
     "text": [
      "F1-score train: 0.6810\n",
      "Jaccard score train: 0.5163\n",
      "Accuracy score train: 0.8062\n",
      "F1-score test: 0.6800\n",
      "Jaccard score test: 0.5152\n",
      "Accuracy score test: 0.7922\n"
     ]
    }
   ],
   "source": [
    "y_train_hat_eclf_soft = eclf_soft.predict(X_train)\n",
    "print(\"F1-score train: %.4f\" % f1_score(y_train, y_train_hat_eclf_soft))\n",
    "print(\"Jaccard score train: %.4f\" % jaccard_score(y_train, y_train_hat_eclf_soft))\n",
    "print(\"Accuracy score train: %.4f\" % accuracy_score(y_train, y_train_hat_eclf_soft))\n",
    "y_hat_eclf_soft = eclf_soft.predict(X_test)\n",
    "print(\"F1-score test: %.4f\" % f1_score(y_test, y_hat_eclf_soft))\n",
    "print(\"Jaccard score test: %.4f\" % jaccard_score(y_test, y_hat_eclf_soft))\n",
    "print(\"Accuracy score test: %.4f\" % accuracy_score(y_test, y_hat_eclf_soft))"
   ]
  },
  {
   "cell_type": "code",
   "execution_count": 80,
   "metadata": {},
   "outputs": [
    {
     "name": "stdout",
     "output_type": "stream",
     "text": [
      "f1_score:\n",
      " {'train': {'KNN': 0.6556473829201104, 'DT': 0.6556473829201104, 'SVM': 0.6270270270270271, 'LR': 0.6344086021505376, 'EN_HARD': 0.638655462184874, 'EN_SOFT': 0.6809651474530831}, 'test': {'KNN': 0.6804123711340206, 'DT': 0.6788990825688075, 'SVM': 0.6326530612244897, 'LR': 0.66, 'EN_HARD': 0.6526315789473685, 'EN_SOFT': 0.6799999999999999}}\n",
      "jaccard_score:\n",
      " {'train': {'KNN': 0.7987012987012987, 'DT': 0.8469055374592834, 'SVM': 0.7752442996742671, 'LR': 0.7785016286644951, 'EN_HARD': 0.7899022801302932, 'EN_SOFT': 0.8061889250814332}, 'test': {'KNN': 0.7964169381107492, 'DT': 0.7727272727272727, 'SVM': 0.7662337662337663, 'LR': 0.7792207792207793, 'EN_HARD': 0.7857142857142857, 'EN_SOFT': 0.7922077922077922}}\n"
     ]
    }
   ],
   "source": [
    "f1_scores['train']['EN_SOFT'] = f1_score(y_train,y_train_hat_eclf_soft)\n",
    "f1_scores['test']['EN_SOFT'] = f1_score(y_test,y_hat_eclf_soft)\n",
    "jaccard_scores['train']['EN_SOFT'] = accuracy_score(y_train, y_train_hat_eclf_soft)\n",
    "jaccard_scores['test']['EN_SOFT'] = accuracy_score(y_test, y_hat_eclf_soft)\n",
    "print('f1_score:\\n',f1_scores)\n",
    "print('jaccard_score:\\n',jaccard_scores)"
   ]
  },
  {
   "cell_type": "markdown",
   "metadata": {
    "id": "d9vVirtTM1lw"
   },
   "source": [
    "### 21, 22. Perform task 19 and 20 using hard voting.\n",
    "Hint: Using GridSearchCV in sklearn.model_selection.\n",
    "\n",
    "**Warning**: You should not use the test data for finding the best parameters.\n",
    "\n",
    "**Requirement**: F1 score on test data must be higher than **0.57**, Jaccard similarity score must be higher than **0.73**."
   ]
  },
  {
   "cell_type": "code",
   "execution_count": 82,
   "metadata": {
    "id": "0n-qRxd5M1lx"
   },
   "outputs": [],
   "source": [
    "#TO DO:\n",
    "#create a dictionary of our models\n",
    "clf1 = KNeighborsClassifier(n_neighbors = 25, algorithm = 'ball_tree', weights = 'uniform', leaf_size = 1)\n",
    "clf2 = tree.DecisionTreeClassifier(criterion = 'entropy', max_features = None, min_samples_leaf = 12, min_samples_split = 2, random_state = 42)\n",
    "clf3 = SVC(C=2.4,coef0=0.01,gamma='auto',kernel='linear',probability = True)\n",
    "clf4 = LogisticRegression(C=0.3,solver='sag')\n",
    "#create our voting classifier, inputting our models\n",
    "eclf_hard = VotingClassifier(estimators=[\n",
    "        ('knn', clf1), ('dt', clf2), ('svc', clf3), ('lr', clf4)], voting='hard')\n",
    "eclf_hard = eclf_hard.fit(X_train, y_train)"
   ]
  },
  {
   "cell_type": "code",
   "execution_count": null,
   "metadata": {
    "id": "zxvqWZBcM1lz",
    "outputId": "b3b398e9-7c5b-45f9-eb87-df6c769ca9dd"
   },
   "outputs": [
    {
     "name": "stdout",
     "output_type": "stream",
     "text": [
      "{'train': {'KNN': 0.6596306068601584, 'DT': 0.6509433962264151, 'SVM': 0.6141304347826086, 'LR': 0.6243386243386243, 'EN_HARD': 0.6361185983827493, 'EN_SOFT': 0.6541554959785523}, 'test': {'KNN': 0.6236559139784946, 'DT': 0.62, 'SVM': 0.6464646464646464, 'LR': 0.6534653465346535, 'EN_HARD': 0.5934065934065933, 'EN_SOFT': 0.6808510638297872}}\n",
      "{'train': {'KNN': 0.7899022801302932, 'DT': 0.758957654723127, 'SVM': 0.7687296416938111, 'LR': 0.7687296416938111, 'EN_HARD': 0.7801302931596091, 'EN_SOFT': 0.7899022801302932}, 'test': {'KNN': 0.7727272727272727, 'DT': 0.7532467532467533, 'SVM': 0.7727272727272727, 'LR': 0.7727272727272727, 'EN_HARD': 0.7597402597402597, 'EN_SOFT': 0.8051948051948052}}\n"
     ]
    }
   ],
   "source": [
    "#TO DO:"
   ]
  },
  {
   "cell_type": "code",
   "execution_count": 83,
   "metadata": {},
   "outputs": [
    {
     "name": "stdout",
     "output_type": "stream",
     "text": [
      "F1-score train: 0.6387\n",
      "Jaccard score train: 0.4691\n",
      "Accuracy score train: 0.7899\n",
      "F1-score test: 0.6526\n",
      "Jaccard score test: 0.4844\n",
      "Accuracy score test: 0.7857\n"
     ]
    }
   ],
   "source": [
    "y_train_hat_eclf_hard = eclf_hard.predict(X_train)\n",
    "print(\"F1-score train: %.4f\" % f1_score(y_train, y_train_hat_eclf_hard))\n",
    "print(\"Jaccard score train: %.4f\" % jaccard_score(y_train, y_train_hat_eclf_hard))\n",
    "print(\"Accuracy score train: %.4f\" % accuracy_score(y_train, y_train_hat_eclf_hard))\n",
    "y_hat_eclf_hard = eclf_hard.predict(X_test)\n",
    "print(\"F1-score test: %.4f\" % f1_score(y_test, y_hat_eclf_hard))\n",
    "print(\"Jaccard score test: %.4f\" % jaccard_score(y_test, y_hat_eclf_hard))\n",
    "print(\"Accuracy score test: %.4f\" % accuracy_score(y_test, y_hat_eclf_hard))"
   ]
  },
  {
   "cell_type": "code",
   "execution_count": 84,
   "metadata": {},
   "outputs": [
    {
     "name": "stdout",
     "output_type": "stream",
     "text": [
      "f1_score:\n",
      " {'train': {'KNN': 0.6556473829201104, 'DT': 0.6556473829201104, 'SVM': 0.6270270270270271, 'LR': 0.6344086021505376, 'EN_HARD': 0.638655462184874, 'EN_SOFT': 0.6809651474530831}, 'test': {'KNN': 0.6804123711340206, 'DT': 0.6788990825688075, 'SVM': 0.6326530612244897, 'LR': 0.66, 'EN_HARD': 0.6526315789473685, 'EN_SOFT': 0.6799999999999999}}\n",
      "jaccard_score:\n",
      " {'train': {'KNN': 0.7987012987012987, 'DT': 0.8469055374592834, 'SVM': 0.7752442996742671, 'LR': 0.7785016286644951, 'EN_HARD': 0.7899022801302932, 'EN_SOFT': 0.8061889250814332}, 'test': {'KNN': 0.7964169381107492, 'DT': 0.7727272727272727, 'SVM': 0.7662337662337663, 'LR': 0.7792207792207793, 'EN_HARD': 0.7857142857142857, 'EN_SOFT': 0.7922077922077922}}\n"
     ]
    }
   ],
   "source": [
    "f1_scores['train']['EN_HARD'] = f1_score(y_train,y_train_hat_eclf_hard)\n",
    "f1_scores['test']['EN_HARD'] = f1_score(y_test,y_hat_eclf_hard)\n",
    "jaccard_scores['train']['EN_HARD'] = accuracy_score(y_train, y_train_hat_eclf_hard)\n",
    "jaccard_scores['test']['EN_HARD'] = accuracy_score(y_test, y_hat_eclf_hard)\n",
    "print('f1_score:\\n',f1_scores)\n",
    "print('jaccard_score:\\n',jaccard_scores)"
   ]
  },
  {
   "cell_type": "markdown",
   "metadata": {
    "id": "RmteU8YeM1l3"
   },
   "source": [
    "# Report\n",
    "You should be able to report the accuracy of the built model using different evaluation metrics:"
   ]
  },
  {
   "cell_type": "markdown",
   "metadata": {
    "id": "c3q0IThKM1l3"
   },
   "source": [
    "| Algorithm          | Jaccard-training | F1-score-training |Jaccard-testing | F1-score-testing |\n",
    "|--------------------|------------------|-------------------|----------------|------------------|\n",
    "| KNN                | ?                | ?                 |  ?             |  ?               |\n",
    "| Decision Tree      | ?                | ?                 |  ?             |  ?               |\n",
    "| SVM                | ?                | ?                 |  ?             |  ?               |\n",
    "| Logistic Regression| ?                | ?                 |  ?             |  ?               |\n",
    "| Hard Voting        | ?                | ?                 |  ?             |  ?               |\n",
    "| Soft Voting        | ?                | ?                 |  ?             |  ?               |\n"
   ]
  },
  {
   "cell_type": "markdown",
   "metadata": {
    "id": "PpqjW-eOM1l3"
   },
   "source": [
    "### 23. Create a data frame that describes the result as exactly as above."
   ]
  },
  {
   "cell_type": "code",
   "execution_count": null,
   "metadata": {
    "id": "pI3_EsgtM1l4",
    "outputId": "4fe78116-eccf-4762-c9e8-74175b6381fa"
   },
   "outputs": [
    {
     "data": {
      "text/html": [
       "<div>\n",
       "<style scoped>\n",
       "    .dataframe tbody tr th:only-of-type {\n",
       "        vertical-align: middle;\n",
       "    }\n",
       "\n",
       "    .dataframe tbody tr th {\n",
       "        vertical-align: top;\n",
       "    }\n",
       "\n",
       "    .dataframe thead th {\n",
       "        text-align: right;\n",
       "    }\n",
       "</style>\n",
       "<table border=\"1\" class=\"dataframe\">\n",
       "  <thead>\n",
       "    <tr style=\"text-align: right;\">\n",
       "      <th></th>\n",
       "      <th>Algorithm</th>\n",
       "      <th>Jaccard-training</th>\n",
       "      <th>F1-score-training</th>\n",
       "      <th>Jaccard-testing</th>\n",
       "      <th>F1-score-testing</th>\n",
       "    </tr>\n",
       "  </thead>\n",
       "  <tbody>\n",
       "    <tr>\n",
       "      <th>0</th>\n",
       "      <td>KNN</td>\n",
       "      <td>0.789902</td>\n",
       "      <td>0.659631</td>\n",
       "      <td>0.772727</td>\n",
       "      <td>0.623656</td>\n",
       "    </tr>\n",
       "    <tr>\n",
       "      <th>1</th>\n",
       "      <td>Decistion Tree</td>\n",
       "      <td>0.758958</td>\n",
       "      <td>0.650943</td>\n",
       "      <td>0.753247</td>\n",
       "      <td>0.620000</td>\n",
       "    </tr>\n",
       "    <tr>\n",
       "      <th>2</th>\n",
       "      <td>SVM</td>\n",
       "      <td>0.768730</td>\n",
       "      <td>0.614130</td>\n",
       "      <td>0.772727</td>\n",
       "      <td>0.646465</td>\n",
       "    </tr>\n",
       "    <tr>\n",
       "      <th>3</th>\n",
       "      <td>Logistic Regression</td>\n",
       "      <td>0.768730</td>\n",
       "      <td>0.624339</td>\n",
       "      <td>0.772727</td>\n",
       "      <td>0.653465</td>\n",
       "    </tr>\n",
       "    <tr>\n",
       "      <th>4</th>\n",
       "      <td>Hard Voting</td>\n",
       "      <td>0.780130</td>\n",
       "      <td>0.636119</td>\n",
       "      <td>0.759740</td>\n",
       "      <td>0.593407</td>\n",
       "    </tr>\n",
       "    <tr>\n",
       "      <th>5</th>\n",
       "      <td>Soft Voting</td>\n",
       "      <td>0.789902</td>\n",
       "      <td>0.654155</td>\n",
       "      <td>0.805195</td>\n",
       "      <td>0.680851</td>\n",
       "    </tr>\n",
       "  </tbody>\n",
       "</table>\n",
       "</div>"
      ],
      "text/plain": [
       "             Algorithm  Jaccard-training  F1-score-training  Jaccard-testing  \\\n",
       "0                  KNN          0.789902           0.659631         0.772727   \n",
       "1       Decistion Tree          0.758958           0.650943         0.753247   \n",
       "2                  SVM          0.768730           0.614130         0.772727   \n",
       "3  Logistic Regression          0.768730           0.624339         0.772727   \n",
       "4          Hard Voting          0.780130           0.636119         0.759740   \n",
       "5          Soft Voting          0.789902           0.654155         0.805195   \n",
       "\n",
       "   F1-score-testing  \n",
       "0          0.623656  \n",
       "1          0.620000  \n",
       "2          0.646465  \n",
       "3          0.653465  \n",
       "4          0.593407  \n",
       "5          0.680851  "
      ]
     },
     "execution_count": 31,
     "metadata": {
      "tags": []
     },
     "output_type": "execute_result"
    }
   ],
   "source": [
    "#TO DO:\n"
   ]
  },
  {
   "cell_type": "code",
   "execution_count": 85,
   "metadata": {},
   "outputs": [
    {
     "data": {
      "text/html": [
       "<div>\n",
       "<style scoped>\n",
       "    .dataframe tbody tr th:only-of-type {\n",
       "        vertical-align: middle;\n",
       "    }\n",
       "\n",
       "    .dataframe tbody tr th {\n",
       "        vertical-align: top;\n",
       "    }\n",
       "\n",
       "    .dataframe thead th {\n",
       "        text-align: right;\n",
       "    }\n",
       "</style>\n",
       "<table border=\"1\" class=\"dataframe\">\n",
       "  <thead>\n",
       "    <tr style=\"text-align: right;\">\n",
       "      <th></th>\n",
       "      <th>Algorithm</th>\n",
       "      <th>Jaccard-training</th>\n",
       "      <th>F1-score-training</th>\n",
       "      <th>Jaccard-testing</th>\n",
       "      <th>F1-score-testing</th>\n",
       "    </tr>\n",
       "  </thead>\n",
       "  <tbody>\n",
       "    <tr>\n",
       "      <th>0</th>\n",
       "      <td>KNN</td>\n",
       "      <td>0.798701</td>\n",
       "      <td>0.655647</td>\n",
       "      <td>0.796417</td>\n",
       "      <td>0.680412</td>\n",
       "    </tr>\n",
       "    <tr>\n",
       "      <th>1</th>\n",
       "      <td>Decision Tree</td>\n",
       "      <td>0.846906</td>\n",
       "      <td>0.655647</td>\n",
       "      <td>0.772727</td>\n",
       "      <td>0.678899</td>\n",
       "    </tr>\n",
       "    <tr>\n",
       "      <th>2</th>\n",
       "      <td>SVM</td>\n",
       "      <td>0.775244</td>\n",
       "      <td>0.627027</td>\n",
       "      <td>0.766234</td>\n",
       "      <td>0.632653</td>\n",
       "    </tr>\n",
       "    <tr>\n",
       "      <th>3</th>\n",
       "      <td>Logistic Regression</td>\n",
       "      <td>0.778502</td>\n",
       "      <td>0.634409</td>\n",
       "      <td>0.779221</td>\n",
       "      <td>0.660000</td>\n",
       "    </tr>\n",
       "    <tr>\n",
       "      <th>4</th>\n",
       "      <td>Hard Voting</td>\n",
       "      <td>0.789902</td>\n",
       "      <td>0.638655</td>\n",
       "      <td>0.785714</td>\n",
       "      <td>0.652632</td>\n",
       "    </tr>\n",
       "    <tr>\n",
       "      <th>5</th>\n",
       "      <td>Soft Voting</td>\n",
       "      <td>0.806189</td>\n",
       "      <td>0.680965</td>\n",
       "      <td>0.792208</td>\n",
       "      <td>0.680000</td>\n",
       "    </tr>\n",
       "  </tbody>\n",
       "</table>\n",
       "</div>"
      ],
      "text/plain": [
       "             Algorithm  Jaccard-training  F1-score-training  Jaccard-testing  \\\n",
       "0                  KNN          0.798701           0.655647         0.796417   \n",
       "1        Decision Tree          0.846906           0.655647         0.772727   \n",
       "2                  SVM          0.775244           0.627027         0.766234   \n",
       "3  Logistic Regression          0.778502           0.634409         0.779221   \n",
       "4          Hard Voting          0.789902           0.638655         0.785714   \n",
       "5          Soft Voting          0.806189           0.680965         0.792208   \n",
       "\n",
       "   F1-score-testing  \n",
       "0          0.680412  \n",
       "1          0.678899  \n",
       "2          0.632653  \n",
       "3          0.660000  \n",
       "4          0.652632  \n",
       "5          0.680000  "
      ]
     },
     "execution_count": 85,
     "metadata": {},
     "output_type": "execute_result"
    }
   ],
   "source": [
    "df_result = pd.DataFrame(columns=['Algorithm','Jaccard-training','F1-score-training','Jaccard-testing','F1-score-testing'])\n",
    "df_result['Algorithm']=['KNN','Decision Tree','SVM','Logistic Regression','Hard Voting','Soft Voting']\n",
    "df_result['Jaccard-training'] = jaccard_scores['train'].values()\n",
    "df_result['Jaccard-testing'] = jaccard_scores['test'].values()\n",
    "df_result['F1-score-training'] = f1_scores['train'].values()\n",
    "df_result['F1-score-testing'] = f1_scores['test'].values()\n",
    "df_result"
   ]
  },
  {
   "cell_type": "markdown",
   "metadata": {
    "id": "TYifTRP7M1l5"
   },
   "source": [
    "# Additional Question: \n",
    "### Are ensemble methods always better than a single model? If not, explain why?\n",
    "Type your answer in the cell bellow as the markdown format.\n",
    "\t"
   ]
  },
  {
   "cell_type": "markdown",
   "metadata": {
    "id": "450BrJ44M1l6"
   },
   "source": [
    "### TO DO:\n"
   ]
  },
  {
   "cell_type": "markdown",
   "metadata": {},
   "source": [
    "Nhìn vào kết quả của các mô hình thì ta thấy Emsemble Methods không tốt hơn các mô hình độc lập. Vì các mô hình cho kết quả gần tương đương nhau, nên việc tổng hợp từ các mô hình nay trong Ensemble Methods không đưa ra được kết quả tốt hơn."
   ]
  }
 ],
 "metadata": {
  "colab": {
   "collapsed_sections": [
    "2yXSkeUjM1kr",
    "qaJt1GeEM1lA",
    "450BrJ44M1l6"
   ],
   "name": "DSP303x_01_EN_2_Starter_Code.ipynb",
   "provenance": []
  },
  "kernelspec": {
   "display_name": "Python 3 (ipykernel)",
   "language": "python",
   "name": "python3"
  },
  "language_info": {
   "codemirror_mode": {
    "name": "ipython",
    "version": 3
   },
   "file_extension": ".py",
   "mimetype": "text/x-python",
   "name": "python",
   "nbconvert_exporter": "python",
   "pygments_lexer": "ipython3",
   "version": "3.8.8"
  }
 },
 "nbformat": 4,
 "nbformat_minor": 4
}
