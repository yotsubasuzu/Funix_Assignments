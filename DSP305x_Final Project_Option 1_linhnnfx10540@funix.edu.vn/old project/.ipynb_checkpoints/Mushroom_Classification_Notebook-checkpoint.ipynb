{
 "cells": [
  {
   "cell_type": "code",
   "execution_count": 1,
   "metadata": {},
   "outputs": [],
   "source": [
    "import numpy as np\n",
    "import pandas as pd\n",
    "import matplotlib.pyplot as plt\n",
    "import seaborn as sns\n",
    "from sklearn.model_selection import train_test_split"
   ]
  },
  {
   "cell_type": "code",
   "execution_count": 2,
   "metadata": {
    "executionInfo": {
     "elapsed": 5,
     "status": "ok",
     "timestamp": 1645248571146,
     "user": {
      "displayName": "Yotsuba Suzu",
      "photoUrl": "https://lh3.googleusercontent.com/a/default-user=s64",
      "userId": "02834116297094980077"
     },
     "user_tz": -420
    },
    "id": "GQBeEjKoeyJz",
    "outputId": "5ba3114b-9ddc-45f5-b336-5449cd5f76d8",
    "tags": []
   },
   "outputs": [
    {
     "data": {
      "text/html": [
       "<div>\n",
       "<style scoped>\n",
       "    .dataframe tbody tr th:only-of-type {\n",
       "        vertical-align: middle;\n",
       "    }\n",
       "\n",
       "    .dataframe tbody tr th {\n",
       "        vertical-align: top;\n",
       "    }\n",
       "\n",
       "    .dataframe thead th {\n",
       "        text-align: right;\n",
       "    }\n",
       "</style>\n",
       "<table border=\"1\" class=\"dataframe\">\n",
       "  <thead>\n",
       "    <tr style=\"text-align: right;\">\n",
       "      <th></th>\n",
       "      <th>class</th>\n",
       "      <th>cap-shape</th>\n",
       "      <th>cap-surface</th>\n",
       "      <th>cap-color</th>\n",
       "      <th>bruises</th>\n",
       "      <th>odor</th>\n",
       "      <th>gill-attachment</th>\n",
       "      <th>gill-spacing</th>\n",
       "      <th>gill-size</th>\n",
       "      <th>gill-color</th>\n",
       "      <th>...</th>\n",
       "      <th>stalk-surface-below-ring</th>\n",
       "      <th>stalk-color-above-ring</th>\n",
       "      <th>stalk-color-below-ring</th>\n",
       "      <th>veil-type</th>\n",
       "      <th>veil-color</th>\n",
       "      <th>ring-number</th>\n",
       "      <th>ring-type</th>\n",
       "      <th>spore-print-color</th>\n",
       "      <th>population</th>\n",
       "      <th>habitat</th>\n",
       "    </tr>\n",
       "  </thead>\n",
       "  <tbody>\n",
       "    <tr>\n",
       "      <th>0</th>\n",
       "      <td>p</td>\n",
       "      <td>x</td>\n",
       "      <td>s</td>\n",
       "      <td>n</td>\n",
       "      <td>t</td>\n",
       "      <td>p</td>\n",
       "      <td>f</td>\n",
       "      <td>c</td>\n",
       "      <td>n</td>\n",
       "      <td>k</td>\n",
       "      <td>...</td>\n",
       "      <td>s</td>\n",
       "      <td>w</td>\n",
       "      <td>w</td>\n",
       "      <td>p</td>\n",
       "      <td>w</td>\n",
       "      <td>o</td>\n",
       "      <td>p</td>\n",
       "      <td>k</td>\n",
       "      <td>s</td>\n",
       "      <td>u</td>\n",
       "    </tr>\n",
       "    <tr>\n",
       "      <th>1</th>\n",
       "      <td>e</td>\n",
       "      <td>x</td>\n",
       "      <td>s</td>\n",
       "      <td>y</td>\n",
       "      <td>t</td>\n",
       "      <td>a</td>\n",
       "      <td>f</td>\n",
       "      <td>c</td>\n",
       "      <td>b</td>\n",
       "      <td>k</td>\n",
       "      <td>...</td>\n",
       "      <td>s</td>\n",
       "      <td>w</td>\n",
       "      <td>w</td>\n",
       "      <td>p</td>\n",
       "      <td>w</td>\n",
       "      <td>o</td>\n",
       "      <td>p</td>\n",
       "      <td>n</td>\n",
       "      <td>n</td>\n",
       "      <td>g</td>\n",
       "    </tr>\n",
       "    <tr>\n",
       "      <th>2</th>\n",
       "      <td>e</td>\n",
       "      <td>b</td>\n",
       "      <td>s</td>\n",
       "      <td>w</td>\n",
       "      <td>t</td>\n",
       "      <td>l</td>\n",
       "      <td>f</td>\n",
       "      <td>c</td>\n",
       "      <td>b</td>\n",
       "      <td>n</td>\n",
       "      <td>...</td>\n",
       "      <td>s</td>\n",
       "      <td>w</td>\n",
       "      <td>w</td>\n",
       "      <td>p</td>\n",
       "      <td>w</td>\n",
       "      <td>o</td>\n",
       "      <td>p</td>\n",
       "      <td>n</td>\n",
       "      <td>n</td>\n",
       "      <td>m</td>\n",
       "    </tr>\n",
       "    <tr>\n",
       "      <th>3</th>\n",
       "      <td>p</td>\n",
       "      <td>x</td>\n",
       "      <td>y</td>\n",
       "      <td>w</td>\n",
       "      <td>t</td>\n",
       "      <td>p</td>\n",
       "      <td>f</td>\n",
       "      <td>c</td>\n",
       "      <td>n</td>\n",
       "      <td>n</td>\n",
       "      <td>...</td>\n",
       "      <td>s</td>\n",
       "      <td>w</td>\n",
       "      <td>w</td>\n",
       "      <td>p</td>\n",
       "      <td>w</td>\n",
       "      <td>o</td>\n",
       "      <td>p</td>\n",
       "      <td>k</td>\n",
       "      <td>s</td>\n",
       "      <td>u</td>\n",
       "    </tr>\n",
       "    <tr>\n",
       "      <th>4</th>\n",
       "      <td>e</td>\n",
       "      <td>x</td>\n",
       "      <td>s</td>\n",
       "      <td>g</td>\n",
       "      <td>f</td>\n",
       "      <td>n</td>\n",
       "      <td>f</td>\n",
       "      <td>w</td>\n",
       "      <td>b</td>\n",
       "      <td>k</td>\n",
       "      <td>...</td>\n",
       "      <td>s</td>\n",
       "      <td>w</td>\n",
       "      <td>w</td>\n",
       "      <td>p</td>\n",
       "      <td>w</td>\n",
       "      <td>o</td>\n",
       "      <td>e</td>\n",
       "      <td>n</td>\n",
       "      <td>a</td>\n",
       "      <td>g</td>\n",
       "    </tr>\n",
       "  </tbody>\n",
       "</table>\n",
       "<p>5 rows × 23 columns</p>\n",
       "</div>"
      ],
      "text/plain": [
       "  class cap-shape cap-surface cap-color bruises odor gill-attachment  \\\n",
       "0     p         x           s         n       t    p               f   \n",
       "1     e         x           s         y       t    a               f   \n",
       "2     e         b           s         w       t    l               f   \n",
       "3     p         x           y         w       t    p               f   \n",
       "4     e         x           s         g       f    n               f   \n",
       "\n",
       "  gill-spacing gill-size gill-color  ... stalk-surface-below-ring  \\\n",
       "0            c         n          k  ...                        s   \n",
       "1            c         b          k  ...                        s   \n",
       "2            c         b          n  ...                        s   \n",
       "3            c         n          n  ...                        s   \n",
       "4            w         b          k  ...                        s   \n",
       "\n",
       "  stalk-color-above-ring stalk-color-below-ring veil-type veil-color  \\\n",
       "0                      w                      w         p          w   \n",
       "1                      w                      w         p          w   \n",
       "2                      w                      w         p          w   \n",
       "3                      w                      w         p          w   \n",
       "4                      w                      w         p          w   \n",
       "\n",
       "  ring-number ring-type spore-print-color population habitat  \n",
       "0           o         p                 k          s       u  \n",
       "1           o         p                 n          n       g  \n",
       "2           o         p                 n          n       m  \n",
       "3           o         p                 k          s       u  \n",
       "4           o         e                 n          a       g  \n",
       "\n",
       "[5 rows x 23 columns]"
      ]
     },
     "execution_count": 2,
     "metadata": {},
     "output_type": "execute_result"
    }
   ],
   "source": [
    "mush_df = pd.read_csv('mushrooms.csv')\n",
    "mush_df.head()"
   ]
  },
  {
   "cell_type": "code",
   "execution_count": 3,
   "metadata": {
    "tags": []
   },
   "outputs": [
    {
     "name": "stdout",
     "output_type": "stream",
     "text": [
      "<class 'pandas.core.frame.DataFrame'>\n",
      "RangeIndex: 8124 entries, 0 to 8123\n",
      "Data columns (total 23 columns):\n",
      " #   Column                    Non-Null Count  Dtype \n",
      "---  ------                    --------------  ----- \n",
      " 0   class                     8124 non-null   object\n",
      " 1   cap-shape                 8124 non-null   object\n",
      " 2   cap-surface               8124 non-null   object\n",
      " 3   cap-color                 8124 non-null   object\n",
      " 4   bruises                   8124 non-null   object\n",
      " 5   odor                      8124 non-null   object\n",
      " 6   gill-attachment           8124 non-null   object\n",
      " 7   gill-spacing              8124 non-null   object\n",
      " 8   gill-size                 8124 non-null   object\n",
      " 9   gill-color                8124 non-null   object\n",
      " 10  stalk-shape               8124 non-null   object\n",
      " 11  stalk-root                8124 non-null   object\n",
      " 12  stalk-surface-above-ring  8124 non-null   object\n",
      " 13  stalk-surface-below-ring  8124 non-null   object\n",
      " 14  stalk-color-above-ring    8124 non-null   object\n",
      " 15  stalk-color-below-ring    8124 non-null   object\n",
      " 16  veil-type                 8124 non-null   object\n",
      " 17  veil-color                8124 non-null   object\n",
      " 18  ring-number               8124 non-null   object\n",
      " 19  ring-type                 8124 non-null   object\n",
      " 20  spore-print-color         8124 non-null   object\n",
      " 21  population                8124 non-null   object\n",
      " 22  habitat                   8124 non-null   object\n",
      "dtypes: object(23)\n",
      "memory usage: 1.4+ MB\n"
     ]
    }
   ],
   "source": [
    "mush_df.info()"
   ]
  },
  {
   "cell_type": "code",
   "execution_count": 6,
   "metadata": {
    "executionInfo": {
     "elapsed": 5262,
     "status": "ok",
     "timestamp": 1645247115873,
     "user": {
      "displayName": "Yotsuba Suzu",
      "photoUrl": "https://lh3.googleusercontent.com/a/default-user=s64",
      "userId": "02834116297094980077"
     },
     "user_tz": -420
    },
    "id": "4XUFt18DRII6",
    "outputId": "78e1c881-22c6-4560-ed94-220dd44a858f",
    "tags": []
   },
   "outputs": [
    {
     "data": {
      "image/png": "[encoded data removed]",
      "text/plain": [
       "<Figure size 1440x720 with 8 Axes>"
      ]
     },
     "metadata": {},
     "output_type": "display_data"
    }
   ],
   "source": [
    "n_row, n_col = 2, 4\n",
    "fig, axes = plt.subplots(n_row, n_col, figsize=(20,10))\n",
    "list_col = ['bruises', 'odor', 'gill-size', 'gill-color', 'spore-print-color', 'ring-type', 'stalk-surface-below-ring', 'stalk-surface-above-ring']\n",
    "idx = 0\n",
    "sns.set()\n",
    "for i in range(n_row):\n",
    "    for j in range(n_col):\n",
    "        if idx < mush_df.shape[1]:\n",
    "            sns.histplot(ax=axes[i,j], data=mush_df, x=list_col[idx], hue='class', multiple=\"stack\")\n",
    "            axes[i,j].set(title=list_col[idx], xlabel='', ylabel='')\n",
    "            axes[i,j].grid()\n",
    "            idx+=1\n",
    "        else: break\n",
    "plt.show()"
   ]
  },
  {
   "cell_type": "code",
   "execution_count": 7,
   "metadata": {
    "executionInfo": {
     "elapsed": 319,
     "status": "ok",
     "timestamp": 1645248640374,
     "user": {
      "displayName": "Yotsuba Suzu",
      "photoUrl": "https://lh3.googleusercontent.com/a/default-user=s64",
      "userId": "02834116297094980077"
     },
     "user_tz": -420
    },
    "id": "EWz7HCfegOd5",
    "tags": []
   },
   "outputs": [],
   "source": [
    "from sklearn import preprocessing\n",
    "from sklearn.preprocessing import LabelEncoder, StandardScaler\n",
    "le = LabelEncoder()\n",
    "ss = StandardScaler()"
   ]
  },
  {
   "cell_type": "code",
   "execution_count": 8,
   "metadata": {
    "executionInfo": {
     "elapsed": 328,
     "status": "ok",
     "timestamp": 1645248655257,
     "user": {
      "displayName": "Yotsuba Suzu",
      "photoUrl": "https://lh3.googleusercontent.com/a/default-user=s64",
      "userId": "02834116297094980077"
     },
     "user_tz": -420
    },
    "id": "jZ2qJEQEiXWE",
    "tags": []
   },
   "outputs": [],
   "source": [
    "data = mush_df.drop(['class'], axis = 1)\n",
    "label = mush_df['class']\n",
    "\n",
    "data = pd.get_dummies(data, prefix_sep='_')\n",
    "label = le.fit_transform(label)"
   ]
  },
  {
   "cell_type": "code",
   "execution_count": 9,
   "metadata": {
    "tags": []
   },
   "outputs": [
    {
     "data": {
      "text/plain": [
       "array(['bruises_t', 'odor_f', 'odor_n', 'gill-size_n', 'gill-color_b',\n",
       "       'stalk-surface-above-ring_k', 'stalk-surface-below-ring_k',\n",
       "       'ring-type_l', 'ring-type_p', 'spore-print-color_h'], dtype=object)"
      ]
     },
     "execution_count": 9,
     "metadata": {},
     "output_type": "execute_result"
    }
   ],
   "source": [
    "#feature selection using ChiSquare, SelectKBest\n",
    "\n",
    "from sklearn.feature_selection import SelectKBest, chi2\n",
    "\n",
    "chi2_selector = SelectKBest(chi2, k=10)\n",
    "data_kbest = chi2_selector.fit_transform(data, label)\n",
    "kbest_features = data.columns.values[chi2_selector.get_support(indices=True)]\n",
    "kbest_features"
   ]
  },
  {
   "cell_type": "code",
   "execution_count": 10,
   "metadata": {
    "executionInfo": {
     "elapsed": 354,
     "status": "ok",
     "timestamp": 1645247707628,
     "user": {
      "displayName": "Yotsuba Suzu",
      "photoUrl": "https://lh3.googleusercontent.com/a/default-user=s64",
      "userId": "02834116297094980077"
     },
     "user_tz": -420
    },
    "id": "Zko4jMkKmziy",
    "tags": []
   },
   "outputs": [],
   "source": [
    "data_kbest = ss.fit_transform(data_kbest)\n",
    "y = label\n",
    "X = data_kbest\n",
    "from sklearn.model_selection import train_test_split\n",
    "X_train, X_test, y_train, y_test = train_test_split(X, y, test_size = 0.30, random_state = 0)"
   ]
  },
  {
   "cell_type": "code",
   "execution_count": 12,
   "metadata": {
    "executionInfo": {
     "elapsed": 310,
     "status": "ok",
     "timestamp": 1644927349477,
     "user": {
      "displayName": "Yotsuba Suzu",
      "photoUrl": "https://lh3.googleusercontent.com/a/default-user=s64",
      "userId": "02834116297094980077"
     },
     "user_tz": -420
    },
    "id": "LFGCyag9nIxb",
    "outputId": "6516c037-b522-44b2-b382-a35089f25a88",
    "tags": []
   },
   "outputs": [
    {
     "name": "stdout",
     "output_type": "stream",
     "text": [
      "F1-score: 97.52136752136752%\n",
      "Recall score: 97.85591766723843%\n"
     ]
    }
   ],
   "source": [
    "from sklearn.linear_model import LogisticRegression\n",
    "from sklearn.metrics import f1_score, recall_score\n",
    "\n",
    "lr = LogisticRegression().fit(X_train, y_train)\n",
    "y_hat = lr.predict(X_test)\n",
    "print('F1-score: {}%'.format(f1_score(y_test, y_hat)*100))\n",
    "print('Recall score: {}%'.format(recall_score(y_test, y_hat)*100))"
   ]
  },
  {
   "cell_type": "code",
   "execution_count": 13,
   "metadata": {
    "executionInfo": {
     "elapsed": 334,
     "status": "ok",
     "timestamp": 1644927351746,
     "user": {
      "displayName": "Yotsuba Suzu",
      "photoUrl": "https://lh3.googleusercontent.com/a/default-user=s64",
      "userId": "02834116297094980077"
     },
     "user_tz": -420
    },
    "id": "4cXbByQZSrNV",
    "outputId": "7c04abf7-5889-402a-e460-e4368b9fa9b3",
    "tags": []
   },
   "outputs": [
    {
     "data": {
      "image/png": "[encoded data removed]",
      "text/plain": [
       "<Figure size 432x288 with 2 Axes>"
      ]
     },
     "metadata": {},
     "output_type": "display_data"
    }
   ],
   "source": [
    "from sklearn.metrics import confusion_matrix\n",
    "sns.heatmap(confusion_matrix(y_test, y_hat), annot=True, fmt='d')\n",
    "plt.xlabel('Predicted Label')\n",
    "plt.ylabel('Ground Truth')\n",
    "plt.show()"
   ]
  },
  {
   "cell_type": "markdown",
   "metadata": {
    "execution": {
     "iopub.execute_input": "2022-02-21T14:24:30.479805Z",
     "iopub.status.busy": "2022-02-21T14:24:30.479449Z",
     "iopub.status.idle": "2022-02-21T14:24:30.483852Z",
     "shell.execute_reply": "2022-02-21T14:24:30.482997Z",
     "shell.execute_reply.started": "2022-02-21T14:24:30.479769Z"
    },
    "executionInfo": {
     "elapsed": 3,
     "status": "ok",
     "timestamp": 1645245267416,
     "user": {
      "displayName": "Yotsuba Suzu",
      "photoUrl": "https://lh3.googleusercontent.com/a/default-user=s64",
      "userId": "02834116297094980077"
     },
     "user_tz": -420
    },
    "id": "nng24UMZTYI6"
   },
   "source": [
    "### XGBoost"
   ]
  },
  {
   "cell_type": "code",
   "execution_count": 12,
   "metadata": {
    "executionInfo": {
     "elapsed": 5,
     "status": "ok",
     "timestamp": 1645248571146,
     "user": {
      "displayName": "Yotsuba Suzu",
      "photoUrl": "https://lh3.googleusercontent.com/a/default-user=s64",
      "userId": "02834116297094980077"
     },
     "user_tz": -420
    },
    "id": "GQBeEjKoeyJz",
    "outputId": "5ba3114b-9ddc-45f5-b336-5449cd5f76d8",
    "tags": []
   },
   "outputs": [],
   "source": [
    "mush_df = pd.read_csv('mushrooms.csv')"
   ]
  },
  {
   "cell_type": "code",
   "execution_count": 13,
   "metadata": {
    "executionInfo": {
     "elapsed": 319,
     "status": "ok",
     "timestamp": 1645248640374,
     "user": {
      "displayName": "Yotsuba Suzu",
      "photoUrl": "https://lh3.googleusercontent.com/a/default-user=s64",
      "userId": "02834116297094980077"
     },
     "user_tz": -420
    },
    "id": "EWz7HCfegOd5",
    "tags": []
   },
   "outputs": [],
   "source": [
    "from sklearn import preprocessing\n",
    "from sklearn.preprocessing import LabelEncoder, StandardScaler\n",
    "le = LabelEncoder()\n",
    "ss = StandardScaler()\n",
    "\n",
    "data = mush_df.drop(['class'], axis = 1)\n",
    "label = mush_df['class']\n",
    "\n",
    "data = pd.get_dummies(data, prefix_sep='_')\n",
    "label = le.fit_transform(label)"
   ]
  },
  {
   "cell_type": "code",
   "execution_count": 15,
   "metadata": {
    "executionInfo": {
     "elapsed": 2336,
     "status": "ok",
     "timestamp": 1645248662042,
     "user": {
      "displayName": "Yotsuba Suzu",
      "photoUrl": "https://lh3.googleusercontent.com/a/default-user=s64",
      "userId": "02834116297094980077"
     },
     "user_tz": -420
    },
    "id": "8wdqLg4QQkO2",
    "outputId": "f8633284-6509-4184-8692-70f01b6edb02",
    "tags": []
   },
   "outputs": [
    {
     "name": "stdout",
     "output_type": "stream",
     "text": [
      "F1 Score: 100.00%\n",
      "Recall Score: 100.00%\n"
     ]
    }
   ],
   "source": [
    "from xgboost import XGBClassifier, DMatrix\n",
    "from sklearn.metrics import f1_score\n",
    "\n",
    "# tvt split\n",
    "seed = 7\n",
    "test_size = 0.33\n",
    "X_train, X_test, y_train, y_test = train_test_split(data, label, test_size=test_size, random_state=seed)\n",
    "eval_set = [(X_train, y_train), (X_test, y_test)]\n",
    "\n",
    "# fit model no training data\n",
    "model = XGBClassifier(use_label_encoder=False, objective='binary:logistic')\n",
    "model.fit(X_train, y_train, eval_set=eval_set, verbose=False, eval_metric='logloss')\n",
    " \n",
    "# make predictions for test data \n",
    "y_pred = model.predict(X_test)\n",
    " \n",
    "# evaluate predictions \n",
    "f1_score_xgb = f1_score(y_test, y_pred)\n",
    "recall_xgb = recall_score(y_test, y_pred)\n",
    "print(\"F1 Score: %.2f%%\" % (f1_score_xgb * 100.0))\n",
    "print(\"Recall Score: %.2f%%\" % (recall_xgb * 100.0))"
   ]
  },
  {
   "cell_type": "markdown",
   "metadata": {
    "execution": {
     "iopub.execute_input": "2022-02-22T05:17:05.281414Z",
     "iopub.status.busy": "2022-02-22T05:17:05.280793Z",
     "iopub.status.idle": "2022-02-22T05:17:05.2853Z",
     "shell.execute_reply": "2022-02-22T05:17:05.284555Z",
     "shell.execute_reply.started": "2022-02-22T05:17:05.281361Z"
    },
    "executionInfo": {
     "elapsed": 350,
     "status": "ok",
     "timestamp": 1645248071979,
     "user": {
      "displayName": "Yotsuba Suzu",
      "photoUrl": "https://lh3.googleusercontent.com/a/default-user=s64",
      "userId": "02834116297094980077"
     },
     "user_tz": -420
    },
    "id": "8iZLdtUFavEL"
   },
   "source": [
    "### LightBGM (LBGM)"
   ]
  },
  {
   "cell_type": "code",
   "execution_count": 17,
   "metadata": {
    "executionInfo": {
     "elapsed": 8333,
     "status": "ok",
     "timestamp": 1645248890258,
     "user": {
      "displayName": "Yotsuba Suzu",
      "photoUrl": "https://lh3.googleusercontent.com/a/default-user=s64",
      "userId": "02834116297094980077"
     },
     "user_tz": -420
    },
    "id": "JPgp3QDTbZeI",
    "outputId": "851f9a07-ae86-42b3-8af3-35ccd6835726",
    "tags": []
   },
   "outputs": [
    {
     "name": "stdout",
     "output_type": "stream",
     "text": [
      "F1 Score: 100.00%\n",
      "F1 Score: 99.77%\n"
     ]
    }
   ],
   "source": [
    "from lightgbm import LGBMClassifier\n",
    "\n",
    "data = mush_df.drop(['class'], axis = 1)\n",
    "label = mush_df['class']\n",
    "\n",
    "data = pd.get_dummies(data, prefix_sep='_')\n",
    "label = le.fit_transform(label)\n",
    "\n",
    "seed = 7\n",
    "test_size = 0.33\n",
    "X_train, X_test, y_train, y_test = train_test_split(data, label, test_size=test_size, random_state=seed)\n",
    "eval_set = [(X_train, y_train), (X_test, y_test)]\n",
    "\n",
    "# define the model\n",
    "model = LGBMClassifier(application='binary', boosting_type='dart', learning_rate=0.01)\n",
    "\n",
    "# evaluate the model\n",
    "model.fit(X_train, y_train)\n",
    "y_pred = model.predict(X_test)\n",
    "\n",
    "# report performance\n",
    "f1_score_lgbm = f1_score(y_test, y_pred)\n",
    "recall_lgbm = recall_score(y_test, y_pred)\n",
    "print('F1 Score: %.2f%%' % (f1_score_xgb * 100.0))\n",
    "print('F1 Score: %.2f%%' % (recall_lgbm * 100.0))"
   ]
  },
  {
   "cell_type": "markdown",
   "metadata": {
    "execution": {
     "iopub.execute_input": "2022-02-22T05:18:10.251204Z",
     "iopub.status.busy": "2022-02-22T05:18:10.250956Z",
     "iopub.status.idle": "2022-02-22T05:18:10.255225Z",
     "shell.execute_reply": "2022-02-22T05:18:10.254346Z",
     "shell.execute_reply.started": "2022-02-22T05:18:10.251177Z"
    },
    "executionInfo": {
     "elapsed": 2,
     "status": "ok",
     "timestamp": 1645248970420,
     "user": {
      "displayName": "Yotsuba Suzu",
      "photoUrl": "https://lh3.googleusercontent.com/a/default-user=s64",
      "userId": "02834116297094980077"
     },
     "user_tz": -420
    },
    "id": "Gawwyk4KeZ_f"
   },
   "source": [
    "### RandomForest"
   ]
  },
  {
   "cell_type": "code",
   "execution_count": 18,
   "metadata": {
    "executionInfo": {
     "elapsed": 696,
     "status": "ok",
     "timestamp": 1645249624124,
     "user": {
      "displayName": "Yotsuba Suzu",
      "photoUrl": "https://lh3.googleusercontent.com/a/default-user=s64",
      "userId": "02834116297094980077"
     },
     "user_tz": -420
    },
    "id": "7Nz8ewGbevjG",
    "outputId": "b33cf943-27dc-414d-d846-ab9242f758b7",
    "tags": []
   },
   "outputs": [
    {
     "name": "stdout",
     "output_type": "stream",
     "text": [
      "F1 Score: 100.00%\n",
      "Recall score: 100.00%\n"
     ]
    }
   ],
   "source": [
    "from sklearn.ensemble import RandomForestClassifier\n",
    "\n",
    "data = mush_df.drop(['class'], axis = 1)\n",
    "label = mush_df['class']\n",
    "\n",
    "data = pd.get_dummies(data, prefix_sep='_')\n",
    "label = le.fit_transform(label)\n",
    "\n",
    "seed = 7\n",
    "test_size = 0.33\n",
    "X_train, X_test, y_train, y_test = train_test_split(data, label, test_size=test_size, random_state=seed)\n",
    "eval_set = [(X_train, y_train), (X_test, y_test)]\n",
    "\n",
    "model = RandomForestClassifier(n_estimators=100, random_state=0)\n",
    "model.fit(X_train, y_train)\n",
    "predictions = model.predict(X_test)\n",
    "\n",
    "f1_score_rf = f1_score(y_test, predictions)\n",
    "recall_rf = recall_score(y_test, predictions)\n",
    "print(\"F1 Score: %.2f%%\" % (f1_score_rf * 100.0))\n",
    "print('Recall score: %.2f%%' % (recall_rf * 100.0))"
   ]
  },
  {
   "cell_type": "code",
   "execution_count": null,
   "metadata": {},
   "outputs": [],
   "source": []
  }
 ],
 "metadata": {
  "kernelspec": {
   "display_name": "Python 3 (ipykernel)",
   "language": "python",
   "name": "python3"
  },
  "language_info": {
   "codemirror_mode": {
    "name": "ipython",
    "version": 3
   },
   "file_extension": ".py",
   "mimetype": "text/x-python",
   "name": "python",
   "nbconvert_exporter": "python",
   "pygments_lexer": "ipython3",
   "version": "3.8.12"
  }
 },
 "nbformat": 4,
 "nbformat_minor": 4
}
